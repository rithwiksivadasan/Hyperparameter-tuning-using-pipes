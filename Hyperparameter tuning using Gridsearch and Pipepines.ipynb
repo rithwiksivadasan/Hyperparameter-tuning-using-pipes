{
 "cells": [
  {
   "cell_type": "code",
   "execution_count": 6,
   "id": "c44fac33",
   "metadata": {},
   "outputs": [],
   "source": [
    "import numpy as np\n",
    "from sklearn.pipeline import make_pipeline\n",
    "from sklearn.pipeline import Pipeline\n",
    "from sklearn.impute import SimpleImputer\n",
    "from sklearn.compose import ColumnTransformer\n",
    "from sklearn.preprocessing import OneHotEncoder, StandardScaler\n",
    "from sklearn.ensemble import RandomForestRegressor\n",
    "from sklearn.model_selection import GridSearchCV\n",
    "from sklearn.model_selection import train_test_split\n"
   ]
  },
  {
   "cell_type": "code",
   "execution_count": 2,
   "id": "df9f6fcf",
   "metadata": {},
   "outputs": [],
   "source": [
    "import seaborn as sns\n"
   ]
  },
  {
   "cell_type": "code",
   "execution_count": 3,
   "id": "282b6703",
   "metadata": {},
   "outputs": [],
   "source": [
    "df=sns.load_dataset('tips')\n"
   ]
  },
  {
   "cell_type": "code",
   "execution_count": 4,
   "id": "622c6903",
   "metadata": {},
   "outputs": [
    {
     "data": {
      "text/html": [
       "<div>\n",
       "<style scoped>\n",
       "    .dataframe tbody tr th:only-of-type {\n",
       "        vertical-align: middle;\n",
       "    }\n",
       "\n",
       "    .dataframe tbody tr th {\n",
       "        vertical-align: top;\n",
       "    }\n",
       "\n",
       "    .dataframe thead th {\n",
       "        text-align: right;\n",
       "    }\n",
       "</style>\n",
       "<table border=\"1\" class=\"dataframe\">\n",
       "  <thead>\n",
       "    <tr style=\"text-align: right;\">\n",
       "      <th></th>\n",
       "      <th>total_bill</th>\n",
       "      <th>tip</th>\n",
       "      <th>sex</th>\n",
       "      <th>smoker</th>\n",
       "      <th>day</th>\n",
       "      <th>time</th>\n",
       "      <th>size</th>\n",
       "    </tr>\n",
       "  </thead>\n",
       "  <tbody>\n",
       "    <tr>\n",
       "      <th>0</th>\n",
       "      <td>16.99</td>\n",
       "      <td>1.01</td>\n",
       "      <td>Female</td>\n",
       "      <td>No</td>\n",
       "      <td>Sun</td>\n",
       "      <td>Dinner</td>\n",
       "      <td>2</td>\n",
       "    </tr>\n",
       "    <tr>\n",
       "      <th>1</th>\n",
       "      <td>10.34</td>\n",
       "      <td>1.66</td>\n",
       "      <td>Male</td>\n",
       "      <td>No</td>\n",
       "      <td>Sun</td>\n",
       "      <td>Dinner</td>\n",
       "      <td>3</td>\n",
       "    </tr>\n",
       "    <tr>\n",
       "      <th>2</th>\n",
       "      <td>21.01</td>\n",
       "      <td>3.50</td>\n",
       "      <td>Male</td>\n",
       "      <td>No</td>\n",
       "      <td>Sun</td>\n",
       "      <td>Dinner</td>\n",
       "      <td>3</td>\n",
       "    </tr>\n",
       "    <tr>\n",
       "      <th>3</th>\n",
       "      <td>23.68</td>\n",
       "      <td>3.31</td>\n",
       "      <td>Male</td>\n",
       "      <td>No</td>\n",
       "      <td>Sun</td>\n",
       "      <td>Dinner</td>\n",
       "      <td>2</td>\n",
       "    </tr>\n",
       "    <tr>\n",
       "      <th>4</th>\n",
       "      <td>24.59</td>\n",
       "      <td>3.61</td>\n",
       "      <td>Female</td>\n",
       "      <td>No</td>\n",
       "      <td>Sun</td>\n",
       "      <td>Dinner</td>\n",
       "      <td>4</td>\n",
       "    </tr>\n",
       "  </tbody>\n",
       "</table>\n",
       "</div>"
      ],
      "text/plain": [
       "   total_bill   tip     sex smoker  day    time  size\n",
       "0       16.99  1.01  Female     No  Sun  Dinner     2\n",
       "1       10.34  1.66    Male     No  Sun  Dinner     3\n",
       "2       21.01  3.50    Male     No  Sun  Dinner     3\n",
       "3       23.68  3.31    Male     No  Sun  Dinner     2\n",
       "4       24.59  3.61  Female     No  Sun  Dinner     4"
      ]
     },
     "execution_count": 4,
     "metadata": {},
     "output_type": "execute_result"
    }
   ],
   "source": [
    "df.head()"
   ]
  },
  {
   "cell_type": "code",
   "execution_count": 7,
   "id": "18e0a91a",
   "metadata": {},
   "outputs": [],
   "source": [
    "X=df.iloc[:,1:]\n",
    "y=df['total_bill']"
   ]
  },
  {
   "cell_type": "code",
   "execution_count": 8,
   "id": "05548bf4",
   "metadata": {},
   "outputs": [],
   "source": [
    "X_train,X_test,y_train,y_test=train_test_split(X,y,test_size=0.2)\n"
   ]
  },
  {
   "cell_type": "code",
   "execution_count": 9,
   "id": "dfb18049",
   "metadata": {},
   "outputs": [],
   "source": [
    "## Pieplining for the numericals in X\n",
    "numeric_preprocessor = Pipeline(\n",
    "    steps=[\n",
    "        (\"imputation_mean\", SimpleImputer(missing_values=np.nan, strategy=\"mean\")),\n",
    "        (\"scaler\", StandardScaler()),\n",
    "    ]\n",
    ")"
   ]
  },
  {
   "cell_type": "code",
   "execution_count": 10,
   "id": "fa86bf51",
   "metadata": {},
   "outputs": [],
   "source": [
    "from sklearn import set_config\n"
   ]
  },
  {
   "cell_type": "code",
   "execution_count": 11,
   "id": "46cec1bf",
   "metadata": {},
   "outputs": [],
   "source": [
    "set_config(display='diagram')\n"
   ]
  },
  {
   "cell_type": "code",
   "execution_count": 12,
   "id": "2ee07bfc",
   "metadata": {},
   "outputs": [
    {
     "data": {
      "text/html": [
       "<style>#sk-78ca4e36-738b-48a4-b576-9af31863c66c {color: black;background-color: white;}#sk-78ca4e36-738b-48a4-b576-9af31863c66c pre{padding: 0;}#sk-78ca4e36-738b-48a4-b576-9af31863c66c div.sk-toggleable {background-color: white;}#sk-78ca4e36-738b-48a4-b576-9af31863c66c label.sk-toggleable__label {cursor: pointer;display: block;width: 100%;margin-bottom: 0;padding: 0.3em;box-sizing: border-box;text-align: center;}#sk-78ca4e36-738b-48a4-b576-9af31863c66c label.sk-toggleable__label-arrow:before {content: \"▸\";float: left;margin-right: 0.25em;color: #696969;}#sk-78ca4e36-738b-48a4-b576-9af31863c66c label.sk-toggleable__label-arrow:hover:before {color: black;}#sk-78ca4e36-738b-48a4-b576-9af31863c66c div.sk-estimator:hover label.sk-toggleable__label-arrow:before {color: black;}#sk-78ca4e36-738b-48a4-b576-9af31863c66c div.sk-toggleable__content {max-height: 0;max-width: 0;overflow: hidden;text-align: left;background-color: #f0f8ff;}#sk-78ca4e36-738b-48a4-b576-9af31863c66c div.sk-toggleable__content pre {margin: 0.2em;color: black;border-radius: 0.25em;background-color: #f0f8ff;}#sk-78ca4e36-738b-48a4-b576-9af31863c66c input.sk-toggleable__control:checked~div.sk-toggleable__content {max-height: 200px;max-width: 100%;overflow: auto;}#sk-78ca4e36-738b-48a4-b576-9af31863c66c input.sk-toggleable__control:checked~label.sk-toggleable__label-arrow:before {content: \"▾\";}#sk-78ca4e36-738b-48a4-b576-9af31863c66c div.sk-estimator input.sk-toggleable__control:checked~label.sk-toggleable__label {background-color: #d4ebff;}#sk-78ca4e36-738b-48a4-b576-9af31863c66c div.sk-label input.sk-toggleable__control:checked~label.sk-toggleable__label {background-color: #d4ebff;}#sk-78ca4e36-738b-48a4-b576-9af31863c66c input.sk-hidden--visually {border: 0;clip: rect(1px 1px 1px 1px);clip: rect(1px, 1px, 1px, 1px);height: 1px;margin: -1px;overflow: hidden;padding: 0;position: absolute;width: 1px;}#sk-78ca4e36-738b-48a4-b576-9af31863c66c div.sk-estimator {font-family: monospace;background-color: #f0f8ff;border: 1px dotted black;border-radius: 0.25em;box-sizing: border-box;margin-bottom: 0.5em;}#sk-78ca4e36-738b-48a4-b576-9af31863c66c div.sk-estimator:hover {background-color: #d4ebff;}#sk-78ca4e36-738b-48a4-b576-9af31863c66c div.sk-parallel-item::after {content: \"\";width: 100%;border-bottom: 1px solid gray;flex-grow: 1;}#sk-78ca4e36-738b-48a4-b576-9af31863c66c div.sk-label:hover label.sk-toggleable__label {background-color: #d4ebff;}#sk-78ca4e36-738b-48a4-b576-9af31863c66c div.sk-serial::before {content: \"\";position: absolute;border-left: 1px solid gray;box-sizing: border-box;top: 2em;bottom: 0;left: 50%;}#sk-78ca4e36-738b-48a4-b576-9af31863c66c div.sk-serial {display: flex;flex-direction: column;align-items: center;background-color: white;padding-right: 0.2em;padding-left: 0.2em;}#sk-78ca4e36-738b-48a4-b576-9af31863c66c div.sk-item {z-index: 1;}#sk-78ca4e36-738b-48a4-b576-9af31863c66c div.sk-parallel {display: flex;align-items: stretch;justify-content: center;background-color: white;}#sk-78ca4e36-738b-48a4-b576-9af31863c66c div.sk-parallel::before {content: \"\";position: absolute;border-left: 1px solid gray;box-sizing: border-box;top: 2em;bottom: 0;left: 50%;}#sk-78ca4e36-738b-48a4-b576-9af31863c66c div.sk-parallel-item {display: flex;flex-direction: column;position: relative;background-color: white;}#sk-78ca4e36-738b-48a4-b576-9af31863c66c div.sk-parallel-item:first-child::after {align-self: flex-end;width: 50%;}#sk-78ca4e36-738b-48a4-b576-9af31863c66c div.sk-parallel-item:last-child::after {align-self: flex-start;width: 50%;}#sk-78ca4e36-738b-48a4-b576-9af31863c66c div.sk-parallel-item:only-child::after {width: 0;}#sk-78ca4e36-738b-48a4-b576-9af31863c66c div.sk-dashed-wrapped {border: 1px dashed gray;margin: 0 0.4em 0.5em 0.4em;box-sizing: border-box;padding-bottom: 0.4em;background-color: white;position: relative;}#sk-78ca4e36-738b-48a4-b576-9af31863c66c div.sk-label label {font-family: monospace;font-weight: bold;background-color: white;display: inline-block;line-height: 1.2em;}#sk-78ca4e36-738b-48a4-b576-9af31863c66c div.sk-label-container {position: relative;z-index: 2;text-align: center;}#sk-78ca4e36-738b-48a4-b576-9af31863c66c div.sk-container {/* jupyter's `normalize.less` sets `[hidden] { display: none; }` but bootstrap.min.css set `[hidden] { display: none !important; }` so we also need the `!important` here to be able to override the default hidden behavior on the sphinx rendered scikit-learn.org. See: https://github.com/scikit-learn/scikit-learn/issues/21755 */display: inline-block !important;position: relative;}#sk-78ca4e36-738b-48a4-b576-9af31863c66c div.sk-text-repr-fallback {display: none;}</style><div id=\"sk-78ca4e36-738b-48a4-b576-9af31863c66c\" class=\"sk-top-container\"><div class=\"sk-text-repr-fallback\"><pre>Pipeline(steps=[(&#x27;imputation_mean&#x27;, SimpleImputer()),\n",
       "                (&#x27;scaler&#x27;, StandardScaler())])</pre><b>Please rerun this cell to show the HTML repr or trust the notebook.</b></div><div class=\"sk-container\" hidden><div class=\"sk-item sk-dashed-wrapped\"><div class=\"sk-label-container\"><div class=\"sk-label sk-toggleable\"><input class=\"sk-toggleable__control sk-hidden--visually\" id=\"b2cdcaef-1caa-4dd2-a222-a7bc4dd29f51\" type=\"checkbox\" ><label for=\"b2cdcaef-1caa-4dd2-a222-a7bc4dd29f51\" class=\"sk-toggleable__label sk-toggleable__label-arrow\">Pipeline</label><div class=\"sk-toggleable__content\"><pre>Pipeline(steps=[(&#x27;imputation_mean&#x27;, SimpleImputer()),\n",
       "                (&#x27;scaler&#x27;, StandardScaler())])</pre></div></div></div><div class=\"sk-serial\"><div class=\"sk-item\"><div class=\"sk-estimator sk-toggleable\"><input class=\"sk-toggleable__control sk-hidden--visually\" id=\"f7d79faf-230f-48e9-a13b-48fc8128dabe\" type=\"checkbox\" ><label for=\"f7d79faf-230f-48e9-a13b-48fc8128dabe\" class=\"sk-toggleable__label sk-toggleable__label-arrow\">SimpleImputer</label><div class=\"sk-toggleable__content\"><pre>SimpleImputer()</pre></div></div></div><div class=\"sk-item\"><div class=\"sk-estimator sk-toggleable\"><input class=\"sk-toggleable__control sk-hidden--visually\" id=\"241d0335-67fb-499c-9111-6a514f14d1b5\" type=\"checkbox\" ><label for=\"241d0335-67fb-499c-9111-6a514f14d1b5\" class=\"sk-toggleable__label sk-toggleable__label-arrow\">StandardScaler</label><div class=\"sk-toggleable__content\"><pre>StandardScaler()</pre></div></div></div></div></div></div></div>"
      ],
      "text/plain": [
       "Pipeline(steps=[('imputation_mean', SimpleImputer()),\n",
       "                ('scaler', StandardScaler())])"
      ]
     },
     "execution_count": 12,
     "metadata": {},
     "output_type": "execute_result"
    }
   ],
   "source": [
    "numeric_preprocessor\n"
   ]
  },
  {
   "cell_type": "code",
   "execution_count": 13,
   "id": "c7a79005",
   "metadata": {},
   "outputs": [],
   "source": [
    "categorical_preprocessor = Pipeline(\n",
    "    steps=[\n",
    "        (\n",
    "            \"imputation_constant\",\n",
    "            SimpleImputer(fill_value=\"missing\", strategy=\"constant\"),\n",
    "        ),\n",
    "        (\"onehot\", OneHotEncoder(handle_unknown=\"ignore\")),\n",
    "    ]\n",
    ")"
   ]
  },
  {
   "cell_type": "code",
   "execution_count": 14,
   "id": "2bda388c",
   "metadata": {},
   "outputs": [
    {
     "data": {
      "text/html": [
       "<style>#sk-66955602-e4ea-4bdc-a0c3-cf8ba9dec869 {color: black;background-color: white;}#sk-66955602-e4ea-4bdc-a0c3-cf8ba9dec869 pre{padding: 0;}#sk-66955602-e4ea-4bdc-a0c3-cf8ba9dec869 div.sk-toggleable {background-color: white;}#sk-66955602-e4ea-4bdc-a0c3-cf8ba9dec869 label.sk-toggleable__label {cursor: pointer;display: block;width: 100%;margin-bottom: 0;padding: 0.3em;box-sizing: border-box;text-align: center;}#sk-66955602-e4ea-4bdc-a0c3-cf8ba9dec869 label.sk-toggleable__label-arrow:before {content: \"▸\";float: left;margin-right: 0.25em;color: #696969;}#sk-66955602-e4ea-4bdc-a0c3-cf8ba9dec869 label.sk-toggleable__label-arrow:hover:before {color: black;}#sk-66955602-e4ea-4bdc-a0c3-cf8ba9dec869 div.sk-estimator:hover label.sk-toggleable__label-arrow:before {color: black;}#sk-66955602-e4ea-4bdc-a0c3-cf8ba9dec869 div.sk-toggleable__content {max-height: 0;max-width: 0;overflow: hidden;text-align: left;background-color: #f0f8ff;}#sk-66955602-e4ea-4bdc-a0c3-cf8ba9dec869 div.sk-toggleable__content pre {margin: 0.2em;color: black;border-radius: 0.25em;background-color: #f0f8ff;}#sk-66955602-e4ea-4bdc-a0c3-cf8ba9dec869 input.sk-toggleable__control:checked~div.sk-toggleable__content {max-height: 200px;max-width: 100%;overflow: auto;}#sk-66955602-e4ea-4bdc-a0c3-cf8ba9dec869 input.sk-toggleable__control:checked~label.sk-toggleable__label-arrow:before {content: \"▾\";}#sk-66955602-e4ea-4bdc-a0c3-cf8ba9dec869 div.sk-estimator input.sk-toggleable__control:checked~label.sk-toggleable__label {background-color: #d4ebff;}#sk-66955602-e4ea-4bdc-a0c3-cf8ba9dec869 div.sk-label input.sk-toggleable__control:checked~label.sk-toggleable__label {background-color: #d4ebff;}#sk-66955602-e4ea-4bdc-a0c3-cf8ba9dec869 input.sk-hidden--visually {border: 0;clip: rect(1px 1px 1px 1px);clip: rect(1px, 1px, 1px, 1px);height: 1px;margin: -1px;overflow: hidden;padding: 0;position: absolute;width: 1px;}#sk-66955602-e4ea-4bdc-a0c3-cf8ba9dec869 div.sk-estimator {font-family: monospace;background-color: #f0f8ff;border: 1px dotted black;border-radius: 0.25em;box-sizing: border-box;margin-bottom: 0.5em;}#sk-66955602-e4ea-4bdc-a0c3-cf8ba9dec869 div.sk-estimator:hover {background-color: #d4ebff;}#sk-66955602-e4ea-4bdc-a0c3-cf8ba9dec869 div.sk-parallel-item::after {content: \"\";width: 100%;border-bottom: 1px solid gray;flex-grow: 1;}#sk-66955602-e4ea-4bdc-a0c3-cf8ba9dec869 div.sk-label:hover label.sk-toggleable__label {background-color: #d4ebff;}#sk-66955602-e4ea-4bdc-a0c3-cf8ba9dec869 div.sk-serial::before {content: \"\";position: absolute;border-left: 1px solid gray;box-sizing: border-box;top: 2em;bottom: 0;left: 50%;}#sk-66955602-e4ea-4bdc-a0c3-cf8ba9dec869 div.sk-serial {display: flex;flex-direction: column;align-items: center;background-color: white;padding-right: 0.2em;padding-left: 0.2em;}#sk-66955602-e4ea-4bdc-a0c3-cf8ba9dec869 div.sk-item {z-index: 1;}#sk-66955602-e4ea-4bdc-a0c3-cf8ba9dec869 div.sk-parallel {display: flex;align-items: stretch;justify-content: center;background-color: white;}#sk-66955602-e4ea-4bdc-a0c3-cf8ba9dec869 div.sk-parallel::before {content: \"\";position: absolute;border-left: 1px solid gray;box-sizing: border-box;top: 2em;bottom: 0;left: 50%;}#sk-66955602-e4ea-4bdc-a0c3-cf8ba9dec869 div.sk-parallel-item {display: flex;flex-direction: column;position: relative;background-color: white;}#sk-66955602-e4ea-4bdc-a0c3-cf8ba9dec869 div.sk-parallel-item:first-child::after {align-self: flex-end;width: 50%;}#sk-66955602-e4ea-4bdc-a0c3-cf8ba9dec869 div.sk-parallel-item:last-child::after {align-self: flex-start;width: 50%;}#sk-66955602-e4ea-4bdc-a0c3-cf8ba9dec869 div.sk-parallel-item:only-child::after {width: 0;}#sk-66955602-e4ea-4bdc-a0c3-cf8ba9dec869 div.sk-dashed-wrapped {border: 1px dashed gray;margin: 0 0.4em 0.5em 0.4em;box-sizing: border-box;padding-bottom: 0.4em;background-color: white;position: relative;}#sk-66955602-e4ea-4bdc-a0c3-cf8ba9dec869 div.sk-label label {font-family: monospace;font-weight: bold;background-color: white;display: inline-block;line-height: 1.2em;}#sk-66955602-e4ea-4bdc-a0c3-cf8ba9dec869 div.sk-label-container {position: relative;z-index: 2;text-align: center;}#sk-66955602-e4ea-4bdc-a0c3-cf8ba9dec869 div.sk-container {/* jupyter's `normalize.less` sets `[hidden] { display: none; }` but bootstrap.min.css set `[hidden] { display: none !important; }` so we also need the `!important` here to be able to override the default hidden behavior on the sphinx rendered scikit-learn.org. See: https://github.com/scikit-learn/scikit-learn/issues/21755 */display: inline-block !important;position: relative;}#sk-66955602-e4ea-4bdc-a0c3-cf8ba9dec869 div.sk-text-repr-fallback {display: none;}</style><div id=\"sk-66955602-e4ea-4bdc-a0c3-cf8ba9dec869\" class=\"sk-top-container\"><div class=\"sk-text-repr-fallback\"><pre>Pipeline(steps=[(&#x27;imputation_constant&#x27;,\n",
       "                 SimpleImputer(fill_value=&#x27;missing&#x27;, strategy=&#x27;constant&#x27;)),\n",
       "                (&#x27;onehot&#x27;, OneHotEncoder(handle_unknown=&#x27;ignore&#x27;))])</pre><b>Please rerun this cell to show the HTML repr or trust the notebook.</b></div><div class=\"sk-container\" hidden><div class=\"sk-item sk-dashed-wrapped\"><div class=\"sk-label-container\"><div class=\"sk-label sk-toggleable\"><input class=\"sk-toggleable__control sk-hidden--visually\" id=\"0c2bb6b5-c673-4185-af27-51257e2ad4ff\" type=\"checkbox\" ><label for=\"0c2bb6b5-c673-4185-af27-51257e2ad4ff\" class=\"sk-toggleable__label sk-toggleable__label-arrow\">Pipeline</label><div class=\"sk-toggleable__content\"><pre>Pipeline(steps=[(&#x27;imputation_constant&#x27;,\n",
       "                 SimpleImputer(fill_value=&#x27;missing&#x27;, strategy=&#x27;constant&#x27;)),\n",
       "                (&#x27;onehot&#x27;, OneHotEncoder(handle_unknown=&#x27;ignore&#x27;))])</pre></div></div></div><div class=\"sk-serial\"><div class=\"sk-item\"><div class=\"sk-estimator sk-toggleable\"><input class=\"sk-toggleable__control sk-hidden--visually\" id=\"9ff9a0f3-8ff1-4bb5-b33a-ad9fafa5e38e\" type=\"checkbox\" ><label for=\"9ff9a0f3-8ff1-4bb5-b33a-ad9fafa5e38e\" class=\"sk-toggleable__label sk-toggleable__label-arrow\">SimpleImputer</label><div class=\"sk-toggleable__content\"><pre>SimpleImputer(fill_value=&#x27;missing&#x27;, strategy=&#x27;constant&#x27;)</pre></div></div></div><div class=\"sk-item\"><div class=\"sk-estimator sk-toggleable\"><input class=\"sk-toggleable__control sk-hidden--visually\" id=\"af37c4fe-d35e-4a3b-be8f-30abbdcdb429\" type=\"checkbox\" ><label for=\"af37c4fe-d35e-4a3b-be8f-30abbdcdb429\" class=\"sk-toggleable__label sk-toggleable__label-arrow\">OneHotEncoder</label><div class=\"sk-toggleable__content\"><pre>OneHotEncoder(handle_unknown=&#x27;ignore&#x27;)</pre></div></div></div></div></div></div></div>"
      ],
      "text/plain": [
       "Pipeline(steps=[('imputation_constant',\n",
       "                 SimpleImputer(fill_value='missing', strategy='constant')),\n",
       "                ('onehot', OneHotEncoder(handle_unknown='ignore'))])"
      ]
     },
     "execution_count": 14,
     "metadata": {},
     "output_type": "execute_result"
    }
   ],
   "source": [
    "categorical_preprocessor"
   ]
  },
  {
   "cell_type": "code",
   "execution_count": 20,
   "id": "67b50b7d",
   "metadata": {},
   "outputs": [],
   "source": [
    "preprocessor=ColumnTransformer(\n",
    "   [( \"categorical\",categorical_preprocessor,['sex','smoker','day','time']),\n",
    "     (\"numerical\",numeric_preprocessor,['tip','size']),])"
   ]
  },
  {
   "cell_type": "code",
   "execution_count": 21,
   "id": "b44917be",
   "metadata": {},
   "outputs": [
    {
     "data": {
      "text/html": [
       "<style>#sk-2bcdfcfd-5e5a-4c8a-a30f-60e4e37a0f46 {color: black;background-color: white;}#sk-2bcdfcfd-5e5a-4c8a-a30f-60e4e37a0f46 pre{padding: 0;}#sk-2bcdfcfd-5e5a-4c8a-a30f-60e4e37a0f46 div.sk-toggleable {background-color: white;}#sk-2bcdfcfd-5e5a-4c8a-a30f-60e4e37a0f46 label.sk-toggleable__label {cursor: pointer;display: block;width: 100%;margin-bottom: 0;padding: 0.3em;box-sizing: border-box;text-align: center;}#sk-2bcdfcfd-5e5a-4c8a-a30f-60e4e37a0f46 label.sk-toggleable__label-arrow:before {content: \"▸\";float: left;margin-right: 0.25em;color: #696969;}#sk-2bcdfcfd-5e5a-4c8a-a30f-60e4e37a0f46 label.sk-toggleable__label-arrow:hover:before {color: black;}#sk-2bcdfcfd-5e5a-4c8a-a30f-60e4e37a0f46 div.sk-estimator:hover label.sk-toggleable__label-arrow:before {color: black;}#sk-2bcdfcfd-5e5a-4c8a-a30f-60e4e37a0f46 div.sk-toggleable__content {max-height: 0;max-width: 0;overflow: hidden;text-align: left;background-color: #f0f8ff;}#sk-2bcdfcfd-5e5a-4c8a-a30f-60e4e37a0f46 div.sk-toggleable__content pre {margin: 0.2em;color: black;border-radius: 0.25em;background-color: #f0f8ff;}#sk-2bcdfcfd-5e5a-4c8a-a30f-60e4e37a0f46 input.sk-toggleable__control:checked~div.sk-toggleable__content {max-height: 200px;max-width: 100%;overflow: auto;}#sk-2bcdfcfd-5e5a-4c8a-a30f-60e4e37a0f46 input.sk-toggleable__control:checked~label.sk-toggleable__label-arrow:before {content: \"▾\";}#sk-2bcdfcfd-5e5a-4c8a-a30f-60e4e37a0f46 div.sk-estimator input.sk-toggleable__control:checked~label.sk-toggleable__label {background-color: #d4ebff;}#sk-2bcdfcfd-5e5a-4c8a-a30f-60e4e37a0f46 div.sk-label input.sk-toggleable__control:checked~label.sk-toggleable__label {background-color: #d4ebff;}#sk-2bcdfcfd-5e5a-4c8a-a30f-60e4e37a0f46 input.sk-hidden--visually {border: 0;clip: rect(1px 1px 1px 1px);clip: rect(1px, 1px, 1px, 1px);height: 1px;margin: -1px;overflow: hidden;padding: 0;position: absolute;width: 1px;}#sk-2bcdfcfd-5e5a-4c8a-a30f-60e4e37a0f46 div.sk-estimator {font-family: monospace;background-color: #f0f8ff;border: 1px dotted black;border-radius: 0.25em;box-sizing: border-box;margin-bottom: 0.5em;}#sk-2bcdfcfd-5e5a-4c8a-a30f-60e4e37a0f46 div.sk-estimator:hover {background-color: #d4ebff;}#sk-2bcdfcfd-5e5a-4c8a-a30f-60e4e37a0f46 div.sk-parallel-item::after {content: \"\";width: 100%;border-bottom: 1px solid gray;flex-grow: 1;}#sk-2bcdfcfd-5e5a-4c8a-a30f-60e4e37a0f46 div.sk-label:hover label.sk-toggleable__label {background-color: #d4ebff;}#sk-2bcdfcfd-5e5a-4c8a-a30f-60e4e37a0f46 div.sk-serial::before {content: \"\";position: absolute;border-left: 1px solid gray;box-sizing: border-box;top: 2em;bottom: 0;left: 50%;}#sk-2bcdfcfd-5e5a-4c8a-a30f-60e4e37a0f46 div.sk-serial {display: flex;flex-direction: column;align-items: center;background-color: white;padding-right: 0.2em;padding-left: 0.2em;}#sk-2bcdfcfd-5e5a-4c8a-a30f-60e4e37a0f46 div.sk-item {z-index: 1;}#sk-2bcdfcfd-5e5a-4c8a-a30f-60e4e37a0f46 div.sk-parallel {display: flex;align-items: stretch;justify-content: center;background-color: white;}#sk-2bcdfcfd-5e5a-4c8a-a30f-60e4e37a0f46 div.sk-parallel::before {content: \"\";position: absolute;border-left: 1px solid gray;box-sizing: border-box;top: 2em;bottom: 0;left: 50%;}#sk-2bcdfcfd-5e5a-4c8a-a30f-60e4e37a0f46 div.sk-parallel-item {display: flex;flex-direction: column;position: relative;background-color: white;}#sk-2bcdfcfd-5e5a-4c8a-a30f-60e4e37a0f46 div.sk-parallel-item:first-child::after {align-self: flex-end;width: 50%;}#sk-2bcdfcfd-5e5a-4c8a-a30f-60e4e37a0f46 div.sk-parallel-item:last-child::after {align-self: flex-start;width: 50%;}#sk-2bcdfcfd-5e5a-4c8a-a30f-60e4e37a0f46 div.sk-parallel-item:only-child::after {width: 0;}#sk-2bcdfcfd-5e5a-4c8a-a30f-60e4e37a0f46 div.sk-dashed-wrapped {border: 1px dashed gray;margin: 0 0.4em 0.5em 0.4em;box-sizing: border-box;padding-bottom: 0.4em;background-color: white;position: relative;}#sk-2bcdfcfd-5e5a-4c8a-a30f-60e4e37a0f46 div.sk-label label {font-family: monospace;font-weight: bold;background-color: white;display: inline-block;line-height: 1.2em;}#sk-2bcdfcfd-5e5a-4c8a-a30f-60e4e37a0f46 div.sk-label-container {position: relative;z-index: 2;text-align: center;}#sk-2bcdfcfd-5e5a-4c8a-a30f-60e4e37a0f46 div.sk-container {/* jupyter's `normalize.less` sets `[hidden] { display: none; }` but bootstrap.min.css set `[hidden] { display: none !important; }` so we also need the `!important` here to be able to override the default hidden behavior on the sphinx rendered scikit-learn.org. See: https://github.com/scikit-learn/scikit-learn/issues/21755 */display: inline-block !important;position: relative;}#sk-2bcdfcfd-5e5a-4c8a-a30f-60e4e37a0f46 div.sk-text-repr-fallback {display: none;}</style><div id=\"sk-2bcdfcfd-5e5a-4c8a-a30f-60e4e37a0f46\" class=\"sk-top-container\"><div class=\"sk-text-repr-fallback\"><pre>ColumnTransformer(transformers=[(&#x27;categorical&#x27;,\n",
       "                                 Pipeline(steps=[(&#x27;imputation_constant&#x27;,\n",
       "                                                  SimpleImputer(fill_value=&#x27;missing&#x27;,\n",
       "                                                                strategy=&#x27;constant&#x27;)),\n",
       "                                                 (&#x27;onehot&#x27;,\n",
       "                                                  OneHotEncoder(handle_unknown=&#x27;ignore&#x27;))]),\n",
       "                                 [&#x27;sex&#x27;, &#x27;smoker&#x27;, &#x27;day&#x27;, &#x27;time&#x27;]),\n",
       "                                (&#x27;numerical&#x27;,\n",
       "                                 Pipeline(steps=[(&#x27;imputation_mean&#x27;,\n",
       "                                                  SimpleImputer()),\n",
       "                                                 (&#x27;scaler&#x27;, StandardScaler())]),\n",
       "                                 [&#x27;tip&#x27;, &#x27;size&#x27;])])</pre><b>Please rerun this cell to show the HTML repr or trust the notebook.</b></div><div class=\"sk-container\" hidden><div class=\"sk-item sk-dashed-wrapped\"><div class=\"sk-label-container\"><div class=\"sk-label sk-toggleable\"><input class=\"sk-toggleable__control sk-hidden--visually\" id=\"d08acf8a-b3f2-4842-9786-966214daee8e\" type=\"checkbox\" ><label for=\"d08acf8a-b3f2-4842-9786-966214daee8e\" class=\"sk-toggleable__label sk-toggleable__label-arrow\">ColumnTransformer</label><div class=\"sk-toggleable__content\"><pre>ColumnTransformer(transformers=[(&#x27;categorical&#x27;,\n",
       "                                 Pipeline(steps=[(&#x27;imputation_constant&#x27;,\n",
       "                                                  SimpleImputer(fill_value=&#x27;missing&#x27;,\n",
       "                                                                strategy=&#x27;constant&#x27;)),\n",
       "                                                 (&#x27;onehot&#x27;,\n",
       "                                                  OneHotEncoder(handle_unknown=&#x27;ignore&#x27;))]),\n",
       "                                 [&#x27;sex&#x27;, &#x27;smoker&#x27;, &#x27;day&#x27;, &#x27;time&#x27;]),\n",
       "                                (&#x27;numerical&#x27;,\n",
       "                                 Pipeline(steps=[(&#x27;imputation_mean&#x27;,\n",
       "                                                  SimpleImputer()),\n",
       "                                                 (&#x27;scaler&#x27;, StandardScaler())]),\n",
       "                                 [&#x27;tip&#x27;, &#x27;size&#x27;])])</pre></div></div></div><div class=\"sk-parallel\"><div class=\"sk-parallel-item\"><div class=\"sk-item\"><div class=\"sk-label-container\"><div class=\"sk-label sk-toggleable\"><input class=\"sk-toggleable__control sk-hidden--visually\" id=\"ab53547a-c778-4a46-b2b2-78c9fb4216d8\" type=\"checkbox\" ><label for=\"ab53547a-c778-4a46-b2b2-78c9fb4216d8\" class=\"sk-toggleable__label sk-toggleable__label-arrow\">categorical</label><div class=\"sk-toggleable__content\"><pre>[&#x27;sex&#x27;, &#x27;smoker&#x27;, &#x27;day&#x27;, &#x27;time&#x27;]</pre></div></div></div><div class=\"sk-serial\"><div class=\"sk-item\"><div class=\"sk-serial\"><div class=\"sk-item\"><div class=\"sk-estimator sk-toggleable\"><input class=\"sk-toggleable__control sk-hidden--visually\" id=\"b2202eb5-e3c0-441a-a787-ae0123178f54\" type=\"checkbox\" ><label for=\"b2202eb5-e3c0-441a-a787-ae0123178f54\" class=\"sk-toggleable__label sk-toggleable__label-arrow\">SimpleImputer</label><div class=\"sk-toggleable__content\"><pre>SimpleImputer(fill_value=&#x27;missing&#x27;, strategy=&#x27;constant&#x27;)</pre></div></div></div><div class=\"sk-item\"><div class=\"sk-estimator sk-toggleable\"><input class=\"sk-toggleable__control sk-hidden--visually\" id=\"d75cf116-37a6-4396-8a7b-d1b0249d0e8f\" type=\"checkbox\" ><label for=\"d75cf116-37a6-4396-8a7b-d1b0249d0e8f\" class=\"sk-toggleable__label sk-toggleable__label-arrow\">OneHotEncoder</label><div class=\"sk-toggleable__content\"><pre>OneHotEncoder(handle_unknown=&#x27;ignore&#x27;)</pre></div></div></div></div></div></div></div></div><div class=\"sk-parallel-item\"><div class=\"sk-item\"><div class=\"sk-label-container\"><div class=\"sk-label sk-toggleable\"><input class=\"sk-toggleable__control sk-hidden--visually\" id=\"498c1724-f7fd-4330-971d-67eb6b34e640\" type=\"checkbox\" ><label for=\"498c1724-f7fd-4330-971d-67eb6b34e640\" class=\"sk-toggleable__label sk-toggleable__label-arrow\">numerical</label><div class=\"sk-toggleable__content\"><pre>[&#x27;tip&#x27;, &#x27;size&#x27;]</pre></div></div></div><div class=\"sk-serial\"><div class=\"sk-item\"><div class=\"sk-serial\"><div class=\"sk-item\"><div class=\"sk-estimator sk-toggleable\"><input class=\"sk-toggleable__control sk-hidden--visually\" id=\"f4257850-2849-4cf0-9328-4292b5e85535\" type=\"checkbox\" ><label for=\"f4257850-2849-4cf0-9328-4292b5e85535\" class=\"sk-toggleable__label sk-toggleable__label-arrow\">SimpleImputer</label><div class=\"sk-toggleable__content\"><pre>SimpleImputer()</pre></div></div></div><div class=\"sk-item\"><div class=\"sk-estimator sk-toggleable\"><input class=\"sk-toggleable__control sk-hidden--visually\" id=\"72db5b90-6125-496e-8ef1-cbd51b4b727e\" type=\"checkbox\" ><label for=\"72db5b90-6125-496e-8ef1-cbd51b4b727e\" class=\"sk-toggleable__label sk-toggleable__label-arrow\">StandardScaler</label><div class=\"sk-toggleable__content\"><pre>StandardScaler()</pre></div></div></div></div></div></div></div></div></div></div></div></div>"
      ],
      "text/plain": [
       "ColumnTransformer(transformers=[('categorical',\n",
       "                                 Pipeline(steps=[('imputation_constant',\n",
       "                                                  SimpleImputer(fill_value='missing',\n",
       "                                                                strategy='constant')),\n",
       "                                                 ('onehot',\n",
       "                                                  OneHotEncoder(handle_unknown='ignore'))]),\n",
       "                                 ['sex', 'smoker', 'day', 'time']),\n",
       "                                ('numerical',\n",
       "                                 Pipeline(steps=[('imputation_mean',\n",
       "                                                  SimpleImputer()),\n",
       "                                                 ('scaler', StandardScaler())]),\n",
       "                                 ['tip', 'size'])])"
      ]
     },
     "execution_count": 21,
     "metadata": {},
     "output_type": "execute_result"
    }
   ],
   "source": [
    "preprocessor"
   ]
  },
  {
   "cell_type": "code",
   "execution_count": 22,
   "id": "6a711858",
   "metadata": {},
   "outputs": [],
   "source": [
    "pipe=Pipeline(\n",
    "    [(\"preprocessor\",preprocessor),(\"regressor\",RandomForestRegressor())]\n",
    "\n",
    ")"
   ]
  },
  {
   "cell_type": "code",
   "execution_count": 23,
   "id": "b49b2540",
   "metadata": {},
   "outputs": [
    {
     "data": {
      "text/html": [
       "<style>#sk-d5996697-b414-468c-85fb-eb8563fc9aef {color: black;background-color: white;}#sk-d5996697-b414-468c-85fb-eb8563fc9aef pre{padding: 0;}#sk-d5996697-b414-468c-85fb-eb8563fc9aef div.sk-toggleable {background-color: white;}#sk-d5996697-b414-468c-85fb-eb8563fc9aef label.sk-toggleable__label {cursor: pointer;display: block;width: 100%;margin-bottom: 0;padding: 0.3em;box-sizing: border-box;text-align: center;}#sk-d5996697-b414-468c-85fb-eb8563fc9aef label.sk-toggleable__label-arrow:before {content: \"▸\";float: left;margin-right: 0.25em;color: #696969;}#sk-d5996697-b414-468c-85fb-eb8563fc9aef label.sk-toggleable__label-arrow:hover:before {color: black;}#sk-d5996697-b414-468c-85fb-eb8563fc9aef div.sk-estimator:hover label.sk-toggleable__label-arrow:before {color: black;}#sk-d5996697-b414-468c-85fb-eb8563fc9aef div.sk-toggleable__content {max-height: 0;max-width: 0;overflow: hidden;text-align: left;background-color: #f0f8ff;}#sk-d5996697-b414-468c-85fb-eb8563fc9aef div.sk-toggleable__content pre {margin: 0.2em;color: black;border-radius: 0.25em;background-color: #f0f8ff;}#sk-d5996697-b414-468c-85fb-eb8563fc9aef input.sk-toggleable__control:checked~div.sk-toggleable__content {max-height: 200px;max-width: 100%;overflow: auto;}#sk-d5996697-b414-468c-85fb-eb8563fc9aef input.sk-toggleable__control:checked~label.sk-toggleable__label-arrow:before {content: \"▾\";}#sk-d5996697-b414-468c-85fb-eb8563fc9aef div.sk-estimator input.sk-toggleable__control:checked~label.sk-toggleable__label {background-color: #d4ebff;}#sk-d5996697-b414-468c-85fb-eb8563fc9aef div.sk-label input.sk-toggleable__control:checked~label.sk-toggleable__label {background-color: #d4ebff;}#sk-d5996697-b414-468c-85fb-eb8563fc9aef input.sk-hidden--visually {border: 0;clip: rect(1px 1px 1px 1px);clip: rect(1px, 1px, 1px, 1px);height: 1px;margin: -1px;overflow: hidden;padding: 0;position: absolute;width: 1px;}#sk-d5996697-b414-468c-85fb-eb8563fc9aef div.sk-estimator {font-family: monospace;background-color: #f0f8ff;border: 1px dotted black;border-radius: 0.25em;box-sizing: border-box;margin-bottom: 0.5em;}#sk-d5996697-b414-468c-85fb-eb8563fc9aef div.sk-estimator:hover {background-color: #d4ebff;}#sk-d5996697-b414-468c-85fb-eb8563fc9aef div.sk-parallel-item::after {content: \"\";width: 100%;border-bottom: 1px solid gray;flex-grow: 1;}#sk-d5996697-b414-468c-85fb-eb8563fc9aef div.sk-label:hover label.sk-toggleable__label {background-color: #d4ebff;}#sk-d5996697-b414-468c-85fb-eb8563fc9aef div.sk-serial::before {content: \"\";position: absolute;border-left: 1px solid gray;box-sizing: border-box;top: 2em;bottom: 0;left: 50%;}#sk-d5996697-b414-468c-85fb-eb8563fc9aef div.sk-serial {display: flex;flex-direction: column;align-items: center;background-color: white;padding-right: 0.2em;padding-left: 0.2em;}#sk-d5996697-b414-468c-85fb-eb8563fc9aef div.sk-item {z-index: 1;}#sk-d5996697-b414-468c-85fb-eb8563fc9aef div.sk-parallel {display: flex;align-items: stretch;justify-content: center;background-color: white;}#sk-d5996697-b414-468c-85fb-eb8563fc9aef div.sk-parallel::before {content: \"\";position: absolute;border-left: 1px solid gray;box-sizing: border-box;top: 2em;bottom: 0;left: 50%;}#sk-d5996697-b414-468c-85fb-eb8563fc9aef div.sk-parallel-item {display: flex;flex-direction: column;position: relative;background-color: white;}#sk-d5996697-b414-468c-85fb-eb8563fc9aef div.sk-parallel-item:first-child::after {align-self: flex-end;width: 50%;}#sk-d5996697-b414-468c-85fb-eb8563fc9aef div.sk-parallel-item:last-child::after {align-self: flex-start;width: 50%;}#sk-d5996697-b414-468c-85fb-eb8563fc9aef div.sk-parallel-item:only-child::after {width: 0;}#sk-d5996697-b414-468c-85fb-eb8563fc9aef div.sk-dashed-wrapped {border: 1px dashed gray;margin: 0 0.4em 0.5em 0.4em;box-sizing: border-box;padding-bottom: 0.4em;background-color: white;position: relative;}#sk-d5996697-b414-468c-85fb-eb8563fc9aef div.sk-label label {font-family: monospace;font-weight: bold;background-color: white;display: inline-block;line-height: 1.2em;}#sk-d5996697-b414-468c-85fb-eb8563fc9aef div.sk-label-container {position: relative;z-index: 2;text-align: center;}#sk-d5996697-b414-468c-85fb-eb8563fc9aef div.sk-container {/* jupyter's `normalize.less` sets `[hidden] { display: none; }` but bootstrap.min.css set `[hidden] { display: none !important; }` so we also need the `!important` here to be able to override the default hidden behavior on the sphinx rendered scikit-learn.org. See: https://github.com/scikit-learn/scikit-learn/issues/21755 */display: inline-block !important;position: relative;}#sk-d5996697-b414-468c-85fb-eb8563fc9aef div.sk-text-repr-fallback {display: none;}</style><div id=\"sk-d5996697-b414-468c-85fb-eb8563fc9aef\" class=\"sk-top-container\"><div class=\"sk-text-repr-fallback\"><pre>Pipeline(steps=[(&#x27;preprocessor&#x27;,\n",
       "                 ColumnTransformer(transformers=[(&#x27;categorical&#x27;,\n",
       "                                                  Pipeline(steps=[(&#x27;imputation_constant&#x27;,\n",
       "                                                                   SimpleImputer(fill_value=&#x27;missing&#x27;,\n",
       "                                                                                 strategy=&#x27;constant&#x27;)),\n",
       "                                                                  (&#x27;onehot&#x27;,\n",
       "                                                                   OneHotEncoder(handle_unknown=&#x27;ignore&#x27;))]),\n",
       "                                                  [&#x27;sex&#x27;, &#x27;smoker&#x27;, &#x27;day&#x27;,\n",
       "                                                   &#x27;time&#x27;]),\n",
       "                                                 (&#x27;numerical&#x27;,\n",
       "                                                  Pipeline(steps=[(&#x27;imputation_mean&#x27;,\n",
       "                                                                   SimpleImputer()),\n",
       "                                                                  (&#x27;scaler&#x27;,\n",
       "                                                                   StandardScaler())]),\n",
       "                                                  [&#x27;tip&#x27;, &#x27;size&#x27;])])),\n",
       "                (&#x27;regressor&#x27;, RandomForestRegressor())])</pre><b>Please rerun this cell to show the HTML repr or trust the notebook.</b></div><div class=\"sk-container\" hidden><div class=\"sk-item sk-dashed-wrapped\"><div class=\"sk-label-container\"><div class=\"sk-label sk-toggleable\"><input class=\"sk-toggleable__control sk-hidden--visually\" id=\"628d76f1-00ee-4038-a703-c93818dee82b\" type=\"checkbox\" ><label for=\"628d76f1-00ee-4038-a703-c93818dee82b\" class=\"sk-toggleable__label sk-toggleable__label-arrow\">Pipeline</label><div class=\"sk-toggleable__content\"><pre>Pipeline(steps=[(&#x27;preprocessor&#x27;,\n",
       "                 ColumnTransformer(transformers=[(&#x27;categorical&#x27;,\n",
       "                                                  Pipeline(steps=[(&#x27;imputation_constant&#x27;,\n",
       "                                                                   SimpleImputer(fill_value=&#x27;missing&#x27;,\n",
       "                                                                                 strategy=&#x27;constant&#x27;)),\n",
       "                                                                  (&#x27;onehot&#x27;,\n",
       "                                                                   OneHotEncoder(handle_unknown=&#x27;ignore&#x27;))]),\n",
       "                                                  [&#x27;sex&#x27;, &#x27;smoker&#x27;, &#x27;day&#x27;,\n",
       "                                                   &#x27;time&#x27;]),\n",
       "                                                 (&#x27;numerical&#x27;,\n",
       "                                                  Pipeline(steps=[(&#x27;imputation_mean&#x27;,\n",
       "                                                                   SimpleImputer()),\n",
       "                                                                  (&#x27;scaler&#x27;,\n",
       "                                                                   StandardScaler())]),\n",
       "                                                  [&#x27;tip&#x27;, &#x27;size&#x27;])])),\n",
       "                (&#x27;regressor&#x27;, RandomForestRegressor())])</pre></div></div></div><div class=\"sk-serial\"><div class=\"sk-item sk-dashed-wrapped\"><div class=\"sk-label-container\"><div class=\"sk-label sk-toggleable\"><input class=\"sk-toggleable__control sk-hidden--visually\" id=\"5b7e2c3a-7768-458a-a810-f00e24d1af38\" type=\"checkbox\" ><label for=\"5b7e2c3a-7768-458a-a810-f00e24d1af38\" class=\"sk-toggleable__label sk-toggleable__label-arrow\">preprocessor: ColumnTransformer</label><div class=\"sk-toggleable__content\"><pre>ColumnTransformer(transformers=[(&#x27;categorical&#x27;,\n",
       "                                 Pipeline(steps=[(&#x27;imputation_constant&#x27;,\n",
       "                                                  SimpleImputer(fill_value=&#x27;missing&#x27;,\n",
       "                                                                strategy=&#x27;constant&#x27;)),\n",
       "                                                 (&#x27;onehot&#x27;,\n",
       "                                                  OneHotEncoder(handle_unknown=&#x27;ignore&#x27;))]),\n",
       "                                 [&#x27;sex&#x27;, &#x27;smoker&#x27;, &#x27;day&#x27;, &#x27;time&#x27;]),\n",
       "                                (&#x27;numerical&#x27;,\n",
       "                                 Pipeline(steps=[(&#x27;imputation_mean&#x27;,\n",
       "                                                  SimpleImputer()),\n",
       "                                                 (&#x27;scaler&#x27;, StandardScaler())]),\n",
       "                                 [&#x27;tip&#x27;, &#x27;size&#x27;])])</pre></div></div></div><div class=\"sk-parallel\"><div class=\"sk-parallel-item\"><div class=\"sk-item\"><div class=\"sk-label-container\"><div class=\"sk-label sk-toggleable\"><input class=\"sk-toggleable__control sk-hidden--visually\" id=\"90460a44-0ef3-429c-a1f7-05d13ba6d14d\" type=\"checkbox\" ><label for=\"90460a44-0ef3-429c-a1f7-05d13ba6d14d\" class=\"sk-toggleable__label sk-toggleable__label-arrow\">categorical</label><div class=\"sk-toggleable__content\"><pre>[&#x27;sex&#x27;, &#x27;smoker&#x27;, &#x27;day&#x27;, &#x27;time&#x27;]</pre></div></div></div><div class=\"sk-serial\"><div class=\"sk-item\"><div class=\"sk-serial\"><div class=\"sk-item\"><div class=\"sk-estimator sk-toggleable\"><input class=\"sk-toggleable__control sk-hidden--visually\" id=\"5ebb4b61-bfc4-4b7c-94e6-5ce8f14ff568\" type=\"checkbox\" ><label for=\"5ebb4b61-bfc4-4b7c-94e6-5ce8f14ff568\" class=\"sk-toggleable__label sk-toggleable__label-arrow\">SimpleImputer</label><div class=\"sk-toggleable__content\"><pre>SimpleImputer(fill_value=&#x27;missing&#x27;, strategy=&#x27;constant&#x27;)</pre></div></div></div><div class=\"sk-item\"><div class=\"sk-estimator sk-toggleable\"><input class=\"sk-toggleable__control sk-hidden--visually\" id=\"7674c2f7-25a3-4293-a53f-7a1fe0932910\" type=\"checkbox\" ><label for=\"7674c2f7-25a3-4293-a53f-7a1fe0932910\" class=\"sk-toggleable__label sk-toggleable__label-arrow\">OneHotEncoder</label><div class=\"sk-toggleable__content\"><pre>OneHotEncoder(handle_unknown=&#x27;ignore&#x27;)</pre></div></div></div></div></div></div></div></div><div class=\"sk-parallel-item\"><div class=\"sk-item\"><div class=\"sk-label-container\"><div class=\"sk-label sk-toggleable\"><input class=\"sk-toggleable__control sk-hidden--visually\" id=\"a58b00a8-54cb-4283-90c1-e9b361f048ce\" type=\"checkbox\" ><label for=\"a58b00a8-54cb-4283-90c1-e9b361f048ce\" class=\"sk-toggleable__label sk-toggleable__label-arrow\">numerical</label><div class=\"sk-toggleable__content\"><pre>[&#x27;tip&#x27;, &#x27;size&#x27;]</pre></div></div></div><div class=\"sk-serial\"><div class=\"sk-item\"><div class=\"sk-serial\"><div class=\"sk-item\"><div class=\"sk-estimator sk-toggleable\"><input class=\"sk-toggleable__control sk-hidden--visually\" id=\"ba9a3355-e8db-43e7-90fb-2c5dd96f45ca\" type=\"checkbox\" ><label for=\"ba9a3355-e8db-43e7-90fb-2c5dd96f45ca\" class=\"sk-toggleable__label sk-toggleable__label-arrow\">SimpleImputer</label><div class=\"sk-toggleable__content\"><pre>SimpleImputer()</pre></div></div></div><div class=\"sk-item\"><div class=\"sk-estimator sk-toggleable\"><input class=\"sk-toggleable__control sk-hidden--visually\" id=\"3859b4e6-b0ea-4327-91f1-5771934c278b\" type=\"checkbox\" ><label for=\"3859b4e6-b0ea-4327-91f1-5771934c278b\" class=\"sk-toggleable__label sk-toggleable__label-arrow\">StandardScaler</label><div class=\"sk-toggleable__content\"><pre>StandardScaler()</pre></div></div></div></div></div></div></div></div></div></div><div class=\"sk-item\"><div class=\"sk-estimator sk-toggleable\"><input class=\"sk-toggleable__control sk-hidden--visually\" id=\"62258c63-bf4d-49d3-8fef-3e9973b53c23\" type=\"checkbox\" ><label for=\"62258c63-bf4d-49d3-8fef-3e9973b53c23\" class=\"sk-toggleable__label sk-toggleable__label-arrow\">RandomForestRegressor</label><div class=\"sk-toggleable__content\"><pre>RandomForestRegressor()</pre></div></div></div></div></div></div></div>"
      ],
      "text/plain": [
       "Pipeline(steps=[('preprocessor',\n",
       "                 ColumnTransformer(transformers=[('categorical',\n",
       "                                                  Pipeline(steps=[('imputation_constant',\n",
       "                                                                   SimpleImputer(fill_value='missing',\n",
       "                                                                                 strategy='constant')),\n",
       "                                                                  ('onehot',\n",
       "                                                                   OneHotEncoder(handle_unknown='ignore'))]),\n",
       "                                                  ['sex', 'smoker', 'day',\n",
       "                                                   'time']),\n",
       "                                                 ('numerical',\n",
       "                                                  Pipeline(steps=[('imputation_mean',\n",
       "                                                                   SimpleImputer()),\n",
       "                                                                  ('scaler',\n",
       "                                                                   StandardScaler())]),\n",
       "                                                  ['tip', 'size'])])),\n",
       "                ('regressor', RandomForestRegressor())])"
      ]
     },
     "execution_count": 23,
     "metadata": {},
     "output_type": "execute_result"
    }
   ],
   "source": [
    "pipe"
   ]
  },
  {
   "cell_type": "code",
   "execution_count": 24,
   "id": "ceb9b64c",
   "metadata": {},
   "outputs": [
    {
     "data": {
      "text/html": [
       "<style>#sk-8b964882-bc5c-4b8b-8395-8374ceef64d7 {color: black;background-color: white;}#sk-8b964882-bc5c-4b8b-8395-8374ceef64d7 pre{padding: 0;}#sk-8b964882-bc5c-4b8b-8395-8374ceef64d7 div.sk-toggleable {background-color: white;}#sk-8b964882-bc5c-4b8b-8395-8374ceef64d7 label.sk-toggleable__label {cursor: pointer;display: block;width: 100%;margin-bottom: 0;padding: 0.3em;box-sizing: border-box;text-align: center;}#sk-8b964882-bc5c-4b8b-8395-8374ceef64d7 label.sk-toggleable__label-arrow:before {content: \"▸\";float: left;margin-right: 0.25em;color: #696969;}#sk-8b964882-bc5c-4b8b-8395-8374ceef64d7 label.sk-toggleable__label-arrow:hover:before {color: black;}#sk-8b964882-bc5c-4b8b-8395-8374ceef64d7 div.sk-estimator:hover label.sk-toggleable__label-arrow:before {color: black;}#sk-8b964882-bc5c-4b8b-8395-8374ceef64d7 div.sk-toggleable__content {max-height: 0;max-width: 0;overflow: hidden;text-align: left;background-color: #f0f8ff;}#sk-8b964882-bc5c-4b8b-8395-8374ceef64d7 div.sk-toggleable__content pre {margin: 0.2em;color: black;border-radius: 0.25em;background-color: #f0f8ff;}#sk-8b964882-bc5c-4b8b-8395-8374ceef64d7 input.sk-toggleable__control:checked~div.sk-toggleable__content {max-height: 200px;max-width: 100%;overflow: auto;}#sk-8b964882-bc5c-4b8b-8395-8374ceef64d7 input.sk-toggleable__control:checked~label.sk-toggleable__label-arrow:before {content: \"▾\";}#sk-8b964882-bc5c-4b8b-8395-8374ceef64d7 div.sk-estimator input.sk-toggleable__control:checked~label.sk-toggleable__label {background-color: #d4ebff;}#sk-8b964882-bc5c-4b8b-8395-8374ceef64d7 div.sk-label input.sk-toggleable__control:checked~label.sk-toggleable__label {background-color: #d4ebff;}#sk-8b964882-bc5c-4b8b-8395-8374ceef64d7 input.sk-hidden--visually {border: 0;clip: rect(1px 1px 1px 1px);clip: rect(1px, 1px, 1px, 1px);height: 1px;margin: -1px;overflow: hidden;padding: 0;position: absolute;width: 1px;}#sk-8b964882-bc5c-4b8b-8395-8374ceef64d7 div.sk-estimator {font-family: monospace;background-color: #f0f8ff;border: 1px dotted black;border-radius: 0.25em;box-sizing: border-box;margin-bottom: 0.5em;}#sk-8b964882-bc5c-4b8b-8395-8374ceef64d7 div.sk-estimator:hover {background-color: #d4ebff;}#sk-8b964882-bc5c-4b8b-8395-8374ceef64d7 div.sk-parallel-item::after {content: \"\";width: 100%;border-bottom: 1px solid gray;flex-grow: 1;}#sk-8b964882-bc5c-4b8b-8395-8374ceef64d7 div.sk-label:hover label.sk-toggleable__label {background-color: #d4ebff;}#sk-8b964882-bc5c-4b8b-8395-8374ceef64d7 div.sk-serial::before {content: \"\";position: absolute;border-left: 1px solid gray;box-sizing: border-box;top: 2em;bottom: 0;left: 50%;}#sk-8b964882-bc5c-4b8b-8395-8374ceef64d7 div.sk-serial {display: flex;flex-direction: column;align-items: center;background-color: white;padding-right: 0.2em;padding-left: 0.2em;}#sk-8b964882-bc5c-4b8b-8395-8374ceef64d7 div.sk-item {z-index: 1;}#sk-8b964882-bc5c-4b8b-8395-8374ceef64d7 div.sk-parallel {display: flex;align-items: stretch;justify-content: center;background-color: white;}#sk-8b964882-bc5c-4b8b-8395-8374ceef64d7 div.sk-parallel::before {content: \"\";position: absolute;border-left: 1px solid gray;box-sizing: border-box;top: 2em;bottom: 0;left: 50%;}#sk-8b964882-bc5c-4b8b-8395-8374ceef64d7 div.sk-parallel-item {display: flex;flex-direction: column;position: relative;background-color: white;}#sk-8b964882-bc5c-4b8b-8395-8374ceef64d7 div.sk-parallel-item:first-child::after {align-self: flex-end;width: 50%;}#sk-8b964882-bc5c-4b8b-8395-8374ceef64d7 div.sk-parallel-item:last-child::after {align-self: flex-start;width: 50%;}#sk-8b964882-bc5c-4b8b-8395-8374ceef64d7 div.sk-parallel-item:only-child::after {width: 0;}#sk-8b964882-bc5c-4b8b-8395-8374ceef64d7 div.sk-dashed-wrapped {border: 1px dashed gray;margin: 0 0.4em 0.5em 0.4em;box-sizing: border-box;padding-bottom: 0.4em;background-color: white;position: relative;}#sk-8b964882-bc5c-4b8b-8395-8374ceef64d7 div.sk-label label {font-family: monospace;font-weight: bold;background-color: white;display: inline-block;line-height: 1.2em;}#sk-8b964882-bc5c-4b8b-8395-8374ceef64d7 div.sk-label-container {position: relative;z-index: 2;text-align: center;}#sk-8b964882-bc5c-4b8b-8395-8374ceef64d7 div.sk-container {/* jupyter's `normalize.less` sets `[hidden] { display: none; }` but bootstrap.min.css set `[hidden] { display: none !important; }` so we also need the `!important` here to be able to override the default hidden behavior on the sphinx rendered scikit-learn.org. See: https://github.com/scikit-learn/scikit-learn/issues/21755 */display: inline-block !important;position: relative;}#sk-8b964882-bc5c-4b8b-8395-8374ceef64d7 div.sk-text-repr-fallback {display: none;}</style><div id=\"sk-8b964882-bc5c-4b8b-8395-8374ceef64d7\" class=\"sk-top-container\"><div class=\"sk-text-repr-fallback\"><pre>Pipeline(steps=[(&#x27;preprocessor&#x27;,\n",
       "                 ColumnTransformer(transformers=[(&#x27;categorical&#x27;,\n",
       "                                                  Pipeline(steps=[(&#x27;imputation_constant&#x27;,\n",
       "                                                                   SimpleImputer(fill_value=&#x27;missing&#x27;,\n",
       "                                                                                 strategy=&#x27;constant&#x27;)),\n",
       "                                                                  (&#x27;onehot&#x27;,\n",
       "                                                                   OneHotEncoder(handle_unknown=&#x27;ignore&#x27;))]),\n",
       "                                                  [&#x27;sex&#x27;, &#x27;smoker&#x27;, &#x27;day&#x27;,\n",
       "                                                   &#x27;time&#x27;]),\n",
       "                                                 (&#x27;numerical&#x27;,\n",
       "                                                  Pipeline(steps=[(&#x27;imputation_mean&#x27;,\n",
       "                                                                   SimpleImputer()),\n",
       "                                                                  (&#x27;scaler&#x27;,\n",
       "                                                                   StandardScaler())]),\n",
       "                                                  [&#x27;tip&#x27;, &#x27;size&#x27;])])),\n",
       "                (&#x27;regressor&#x27;, RandomForestRegressor())])</pre><b>Please rerun this cell to show the HTML repr or trust the notebook.</b></div><div class=\"sk-container\" hidden><div class=\"sk-item sk-dashed-wrapped\"><div class=\"sk-label-container\"><div class=\"sk-label sk-toggleable\"><input class=\"sk-toggleable__control sk-hidden--visually\" id=\"c3497e67-568d-49d6-a72b-b34f61efc054\" type=\"checkbox\" ><label for=\"c3497e67-568d-49d6-a72b-b34f61efc054\" class=\"sk-toggleable__label sk-toggleable__label-arrow\">Pipeline</label><div class=\"sk-toggleable__content\"><pre>Pipeline(steps=[(&#x27;preprocessor&#x27;,\n",
       "                 ColumnTransformer(transformers=[(&#x27;categorical&#x27;,\n",
       "                                                  Pipeline(steps=[(&#x27;imputation_constant&#x27;,\n",
       "                                                                   SimpleImputer(fill_value=&#x27;missing&#x27;,\n",
       "                                                                                 strategy=&#x27;constant&#x27;)),\n",
       "                                                                  (&#x27;onehot&#x27;,\n",
       "                                                                   OneHotEncoder(handle_unknown=&#x27;ignore&#x27;))]),\n",
       "                                                  [&#x27;sex&#x27;, &#x27;smoker&#x27;, &#x27;day&#x27;,\n",
       "                                                   &#x27;time&#x27;]),\n",
       "                                                 (&#x27;numerical&#x27;,\n",
       "                                                  Pipeline(steps=[(&#x27;imputation_mean&#x27;,\n",
       "                                                                   SimpleImputer()),\n",
       "                                                                  (&#x27;scaler&#x27;,\n",
       "                                                                   StandardScaler())]),\n",
       "                                                  [&#x27;tip&#x27;, &#x27;size&#x27;])])),\n",
       "                (&#x27;regressor&#x27;, RandomForestRegressor())])</pre></div></div></div><div class=\"sk-serial\"><div class=\"sk-item sk-dashed-wrapped\"><div class=\"sk-label-container\"><div class=\"sk-label sk-toggleable\"><input class=\"sk-toggleable__control sk-hidden--visually\" id=\"55fd469e-a44c-422b-82b1-d7fbf691a0ca\" type=\"checkbox\" ><label for=\"55fd469e-a44c-422b-82b1-d7fbf691a0ca\" class=\"sk-toggleable__label sk-toggleable__label-arrow\">preprocessor: ColumnTransformer</label><div class=\"sk-toggleable__content\"><pre>ColumnTransformer(transformers=[(&#x27;categorical&#x27;,\n",
       "                                 Pipeline(steps=[(&#x27;imputation_constant&#x27;,\n",
       "                                                  SimpleImputer(fill_value=&#x27;missing&#x27;,\n",
       "                                                                strategy=&#x27;constant&#x27;)),\n",
       "                                                 (&#x27;onehot&#x27;,\n",
       "                                                  OneHotEncoder(handle_unknown=&#x27;ignore&#x27;))]),\n",
       "                                 [&#x27;sex&#x27;, &#x27;smoker&#x27;, &#x27;day&#x27;, &#x27;time&#x27;]),\n",
       "                                (&#x27;numerical&#x27;,\n",
       "                                 Pipeline(steps=[(&#x27;imputation_mean&#x27;,\n",
       "                                                  SimpleImputer()),\n",
       "                                                 (&#x27;scaler&#x27;, StandardScaler())]),\n",
       "                                 [&#x27;tip&#x27;, &#x27;size&#x27;])])</pre></div></div></div><div class=\"sk-parallel\"><div class=\"sk-parallel-item\"><div class=\"sk-item\"><div class=\"sk-label-container\"><div class=\"sk-label sk-toggleable\"><input class=\"sk-toggleable__control sk-hidden--visually\" id=\"bf38fa84-b9d1-48d7-81fb-cc4b0bce139a\" type=\"checkbox\" ><label for=\"bf38fa84-b9d1-48d7-81fb-cc4b0bce139a\" class=\"sk-toggleable__label sk-toggleable__label-arrow\">categorical</label><div class=\"sk-toggleable__content\"><pre>[&#x27;sex&#x27;, &#x27;smoker&#x27;, &#x27;day&#x27;, &#x27;time&#x27;]</pre></div></div></div><div class=\"sk-serial\"><div class=\"sk-item\"><div class=\"sk-serial\"><div class=\"sk-item\"><div class=\"sk-estimator sk-toggleable\"><input class=\"sk-toggleable__control sk-hidden--visually\" id=\"0460f39a-bc2e-4886-bd76-8fcda40a1910\" type=\"checkbox\" ><label for=\"0460f39a-bc2e-4886-bd76-8fcda40a1910\" class=\"sk-toggleable__label sk-toggleable__label-arrow\">SimpleImputer</label><div class=\"sk-toggleable__content\"><pre>SimpleImputer(fill_value=&#x27;missing&#x27;, strategy=&#x27;constant&#x27;)</pre></div></div></div><div class=\"sk-item\"><div class=\"sk-estimator sk-toggleable\"><input class=\"sk-toggleable__control sk-hidden--visually\" id=\"7fa14f70-6cee-4888-a530-8e01814998fe\" type=\"checkbox\" ><label for=\"7fa14f70-6cee-4888-a530-8e01814998fe\" class=\"sk-toggleable__label sk-toggleable__label-arrow\">OneHotEncoder</label><div class=\"sk-toggleable__content\"><pre>OneHotEncoder(handle_unknown=&#x27;ignore&#x27;)</pre></div></div></div></div></div></div></div></div><div class=\"sk-parallel-item\"><div class=\"sk-item\"><div class=\"sk-label-container\"><div class=\"sk-label sk-toggleable\"><input class=\"sk-toggleable__control sk-hidden--visually\" id=\"d91fcd6d-7461-48c1-ad63-c4b9918908c4\" type=\"checkbox\" ><label for=\"d91fcd6d-7461-48c1-ad63-c4b9918908c4\" class=\"sk-toggleable__label sk-toggleable__label-arrow\">numerical</label><div class=\"sk-toggleable__content\"><pre>[&#x27;tip&#x27;, &#x27;size&#x27;]</pre></div></div></div><div class=\"sk-serial\"><div class=\"sk-item\"><div class=\"sk-serial\"><div class=\"sk-item\"><div class=\"sk-estimator sk-toggleable\"><input class=\"sk-toggleable__control sk-hidden--visually\" id=\"bd54e3ad-33ed-4e86-b8fa-9f2ac5b395c8\" type=\"checkbox\" ><label for=\"bd54e3ad-33ed-4e86-b8fa-9f2ac5b395c8\" class=\"sk-toggleable__label sk-toggleable__label-arrow\">SimpleImputer</label><div class=\"sk-toggleable__content\"><pre>SimpleImputer()</pre></div></div></div><div class=\"sk-item\"><div class=\"sk-estimator sk-toggleable\"><input class=\"sk-toggleable__control sk-hidden--visually\" id=\"e49cc5e3-18ed-4840-892d-6b5a1610041b\" type=\"checkbox\" ><label for=\"e49cc5e3-18ed-4840-892d-6b5a1610041b\" class=\"sk-toggleable__label sk-toggleable__label-arrow\">StandardScaler</label><div class=\"sk-toggleable__content\"><pre>StandardScaler()</pre></div></div></div></div></div></div></div></div></div></div><div class=\"sk-item\"><div class=\"sk-estimator sk-toggleable\"><input class=\"sk-toggleable__control sk-hidden--visually\" id=\"75f08fd1-c875-43d7-94fe-322f08b6703a\" type=\"checkbox\" ><label for=\"75f08fd1-c875-43d7-94fe-322f08b6703a\" class=\"sk-toggleable__label sk-toggleable__label-arrow\">RandomForestRegressor</label><div class=\"sk-toggleable__content\"><pre>RandomForestRegressor()</pre></div></div></div></div></div></div></div>"
      ],
      "text/plain": [
       "Pipeline(steps=[('preprocessor',\n",
       "                 ColumnTransformer(transformers=[('categorical',\n",
       "                                                  Pipeline(steps=[('imputation_constant',\n",
       "                                                                   SimpleImputer(fill_value='missing',\n",
       "                                                                                 strategy='constant')),\n",
       "                                                                  ('onehot',\n",
       "                                                                   OneHotEncoder(handle_unknown='ignore'))]),\n",
       "                                                  ['sex', 'smoker', 'day',\n",
       "                                                   'time']),\n",
       "                                                 ('numerical',\n",
       "                                                  Pipeline(steps=[('imputation_mean',\n",
       "                                                                   SimpleImputer()),\n",
       "                                                                  ('scaler',\n",
       "                                                                   StandardScaler())]),\n",
       "                                                  ['tip', 'size'])])),\n",
       "                ('regressor', RandomForestRegressor())])"
      ]
     },
     "execution_count": 24,
     "metadata": {},
     "output_type": "execute_result"
    }
   ],
   "source": [
    "pipe.fit(X_train,y_train)\n"
   ]
  },
  {
   "cell_type": "code",
   "execution_count": 25,
   "id": "36315ac2",
   "metadata": {},
   "outputs": [
    {
     "data": {
      "text/plain": [
       "array([21.61511   , 20.73435   , 14.54339333, 17.1546    , 25.2435    ,\n",
       "       22.0813    , 15.3086    , 21.82701667, 24.37096667, 19.29635   ,\n",
       "       13.87183333, 30.5057    , 11.38978167, 30.6734    , 15.7734    ,\n",
       "       25.83386667, 12.12560833, 30.9281    , 20.7885    , 14.15039   ,\n",
       "       22.3494    , 19.2466    , 13.8575    , 29.1572    , 19.101075  ,\n",
       "       14.67403333, 19.744     , 12.16348   , 13.73894889, 27.1794    ,\n",
       "       15.3086    , 15.31915   , 20.1731    , 27.97966667, 11.38978167,\n",
       "       18.03446   , 17.41834167, 18.5511    , 11.74392   , 30.6734    ,\n",
       "       16.6642    , 11.38978167, 22.3494    , 18.93554048, 26.4772    ,\n",
       "       24.7206    , 31.9281    , 17.63545   , 12.16348   ])"
      ]
     },
     "execution_count": 25,
     "metadata": {},
     "output_type": "execute_result"
    }
   ],
   "source": [
    "pipe.predict(X_test)"
   ]
  },
  {
   "cell_type": "code",
   "execution_count": 30,
   "id": "6a806284",
   "metadata": {},
   "outputs": [],
   "source": [
    "param_grid = {\n",
    "    'regressor__n_estimators': [100,500],\n",
    "    'regressor__max_features': ['auto','sqrt','log2'],\n",
    "    'regressor__max_depth': [3,4,5,6,7,8]    \n",
    "}"
   ]
  },
  {
   "cell_type": "code",
   "execution_count": 31,
   "id": "93811d7e",
   "metadata": {},
   "outputs": [],
   "source": [
    "gridsearch= GridSearchCV(pipe,param_grid,n_jobs=1)"
   ]
  },
  {
   "cell_type": "code",
   "execution_count": 32,
   "id": "3d4414ef",
   "metadata": {},
   "outputs": [
    {
     "data": {
      "text/html": [
       "<style>#sk-fb84d015-eac7-4721-b890-a42b00488bc7 {color: black;background-color: white;}#sk-fb84d015-eac7-4721-b890-a42b00488bc7 pre{padding: 0;}#sk-fb84d015-eac7-4721-b890-a42b00488bc7 div.sk-toggleable {background-color: white;}#sk-fb84d015-eac7-4721-b890-a42b00488bc7 label.sk-toggleable__label {cursor: pointer;display: block;width: 100%;margin-bottom: 0;padding: 0.3em;box-sizing: border-box;text-align: center;}#sk-fb84d015-eac7-4721-b890-a42b00488bc7 label.sk-toggleable__label-arrow:before {content: \"▸\";float: left;margin-right: 0.25em;color: #696969;}#sk-fb84d015-eac7-4721-b890-a42b00488bc7 label.sk-toggleable__label-arrow:hover:before {color: black;}#sk-fb84d015-eac7-4721-b890-a42b00488bc7 div.sk-estimator:hover label.sk-toggleable__label-arrow:before {color: black;}#sk-fb84d015-eac7-4721-b890-a42b00488bc7 div.sk-toggleable__content {max-height: 0;max-width: 0;overflow: hidden;text-align: left;background-color: #f0f8ff;}#sk-fb84d015-eac7-4721-b890-a42b00488bc7 div.sk-toggleable__content pre {margin: 0.2em;color: black;border-radius: 0.25em;background-color: #f0f8ff;}#sk-fb84d015-eac7-4721-b890-a42b00488bc7 input.sk-toggleable__control:checked~div.sk-toggleable__content {max-height: 200px;max-width: 100%;overflow: auto;}#sk-fb84d015-eac7-4721-b890-a42b00488bc7 input.sk-toggleable__control:checked~label.sk-toggleable__label-arrow:before {content: \"▾\";}#sk-fb84d015-eac7-4721-b890-a42b00488bc7 div.sk-estimator input.sk-toggleable__control:checked~label.sk-toggleable__label {background-color: #d4ebff;}#sk-fb84d015-eac7-4721-b890-a42b00488bc7 div.sk-label input.sk-toggleable__control:checked~label.sk-toggleable__label {background-color: #d4ebff;}#sk-fb84d015-eac7-4721-b890-a42b00488bc7 input.sk-hidden--visually {border: 0;clip: rect(1px 1px 1px 1px);clip: rect(1px, 1px, 1px, 1px);height: 1px;margin: -1px;overflow: hidden;padding: 0;position: absolute;width: 1px;}#sk-fb84d015-eac7-4721-b890-a42b00488bc7 div.sk-estimator {font-family: monospace;background-color: #f0f8ff;border: 1px dotted black;border-radius: 0.25em;box-sizing: border-box;margin-bottom: 0.5em;}#sk-fb84d015-eac7-4721-b890-a42b00488bc7 div.sk-estimator:hover {background-color: #d4ebff;}#sk-fb84d015-eac7-4721-b890-a42b00488bc7 div.sk-parallel-item::after {content: \"\";width: 100%;border-bottom: 1px solid gray;flex-grow: 1;}#sk-fb84d015-eac7-4721-b890-a42b00488bc7 div.sk-label:hover label.sk-toggleable__label {background-color: #d4ebff;}#sk-fb84d015-eac7-4721-b890-a42b00488bc7 div.sk-serial::before {content: \"\";position: absolute;border-left: 1px solid gray;box-sizing: border-box;top: 2em;bottom: 0;left: 50%;}#sk-fb84d015-eac7-4721-b890-a42b00488bc7 div.sk-serial {display: flex;flex-direction: column;align-items: center;background-color: white;padding-right: 0.2em;padding-left: 0.2em;}#sk-fb84d015-eac7-4721-b890-a42b00488bc7 div.sk-item {z-index: 1;}#sk-fb84d015-eac7-4721-b890-a42b00488bc7 div.sk-parallel {display: flex;align-items: stretch;justify-content: center;background-color: white;}#sk-fb84d015-eac7-4721-b890-a42b00488bc7 div.sk-parallel::before {content: \"\";position: absolute;border-left: 1px solid gray;box-sizing: border-box;top: 2em;bottom: 0;left: 50%;}#sk-fb84d015-eac7-4721-b890-a42b00488bc7 div.sk-parallel-item {display: flex;flex-direction: column;position: relative;background-color: white;}#sk-fb84d015-eac7-4721-b890-a42b00488bc7 div.sk-parallel-item:first-child::after {align-self: flex-end;width: 50%;}#sk-fb84d015-eac7-4721-b890-a42b00488bc7 div.sk-parallel-item:last-child::after {align-self: flex-start;width: 50%;}#sk-fb84d015-eac7-4721-b890-a42b00488bc7 div.sk-parallel-item:only-child::after {width: 0;}#sk-fb84d015-eac7-4721-b890-a42b00488bc7 div.sk-dashed-wrapped {border: 1px dashed gray;margin: 0 0.4em 0.5em 0.4em;box-sizing: border-box;padding-bottom: 0.4em;background-color: white;position: relative;}#sk-fb84d015-eac7-4721-b890-a42b00488bc7 div.sk-label label {font-family: monospace;font-weight: bold;background-color: white;display: inline-block;line-height: 1.2em;}#sk-fb84d015-eac7-4721-b890-a42b00488bc7 div.sk-label-container {position: relative;z-index: 2;text-align: center;}#sk-fb84d015-eac7-4721-b890-a42b00488bc7 div.sk-container {/* jupyter's `normalize.less` sets `[hidden] { display: none; }` but bootstrap.min.css set `[hidden] { display: none !important; }` so we also need the `!important` here to be able to override the default hidden behavior on the sphinx rendered scikit-learn.org. See: https://github.com/scikit-learn/scikit-learn/issues/21755 */display: inline-block !important;position: relative;}#sk-fb84d015-eac7-4721-b890-a42b00488bc7 div.sk-text-repr-fallback {display: none;}</style><div id=\"sk-fb84d015-eac7-4721-b890-a42b00488bc7\" class=\"sk-top-container\"><div class=\"sk-text-repr-fallback\"><pre>GridSearchCV(estimator=Pipeline(steps=[(&#x27;preprocessor&#x27;,\n",
       "                                        ColumnTransformer(transformers=[(&#x27;categorical&#x27;,\n",
       "                                                                         Pipeline(steps=[(&#x27;imputation_constant&#x27;,\n",
       "                                                                                          SimpleImputer(fill_value=&#x27;missing&#x27;,\n",
       "                                                                                                        strategy=&#x27;constant&#x27;)),\n",
       "                                                                                         (&#x27;onehot&#x27;,\n",
       "                                                                                          OneHotEncoder(handle_unknown=&#x27;ignore&#x27;))]),\n",
       "                                                                         [&#x27;sex&#x27;,\n",
       "                                                                          &#x27;smoker&#x27;,\n",
       "                                                                          &#x27;day&#x27;,\n",
       "                                                                          &#x27;time&#x27;]),\n",
       "                                                                        (&#x27;numerical&#x27;,\n",
       "                                                                         Pipeline(steps=[(&#x27;imputation_mean&#x27;,\n",
       "                                                                                          SimpleImputer()),\n",
       "                                                                                         (&#x27;scaler&#x27;,\n",
       "                                                                                          StandardScaler())]),\n",
       "                                                                         [&#x27;tip&#x27;,\n",
       "                                                                          &#x27;size&#x27;])])),\n",
       "                                       (&#x27;regressor&#x27;, RandomForestRegressor())]),\n",
       "             n_jobs=1,\n",
       "             param_grid={&#x27;regressor__max_depth&#x27;: [3, 4, 5, 6, 7, 8],\n",
       "                         &#x27;regressor__max_features&#x27;: [&#x27;auto&#x27;, &#x27;sqrt&#x27;, &#x27;log2&#x27;],\n",
       "                         &#x27;regressor__n_estimators&#x27;: [100, 500]})</pre><b>Please rerun this cell to show the HTML repr or trust the notebook.</b></div><div class=\"sk-container\" hidden><div class=\"sk-item sk-dashed-wrapped\"><div class=\"sk-label-container\"><div class=\"sk-label sk-toggleable\"><input class=\"sk-toggleable__control sk-hidden--visually\" id=\"2f48058f-d53b-495e-8454-e51642746ccb\" type=\"checkbox\" ><label for=\"2f48058f-d53b-495e-8454-e51642746ccb\" class=\"sk-toggleable__label sk-toggleable__label-arrow\">GridSearchCV</label><div class=\"sk-toggleable__content\"><pre>GridSearchCV(estimator=Pipeline(steps=[(&#x27;preprocessor&#x27;,\n",
       "                                        ColumnTransformer(transformers=[(&#x27;categorical&#x27;,\n",
       "                                                                         Pipeline(steps=[(&#x27;imputation_constant&#x27;,\n",
       "                                                                                          SimpleImputer(fill_value=&#x27;missing&#x27;,\n",
       "                                                                                                        strategy=&#x27;constant&#x27;)),\n",
       "                                                                                         (&#x27;onehot&#x27;,\n",
       "                                                                                          OneHotEncoder(handle_unknown=&#x27;ignore&#x27;))]),\n",
       "                                                                         [&#x27;sex&#x27;,\n",
       "                                                                          &#x27;smoker&#x27;,\n",
       "                                                                          &#x27;day&#x27;,\n",
       "                                                                          &#x27;time&#x27;]),\n",
       "                                                                        (&#x27;numerical&#x27;,\n",
       "                                                                         Pipeline(steps=[(&#x27;imputation_mean&#x27;,\n",
       "                                                                                          SimpleImputer()),\n",
       "                                                                                         (&#x27;scaler&#x27;,\n",
       "                                                                                          StandardScaler())]),\n",
       "                                                                         [&#x27;tip&#x27;,\n",
       "                                                                          &#x27;size&#x27;])])),\n",
       "                                       (&#x27;regressor&#x27;, RandomForestRegressor())]),\n",
       "             n_jobs=1,\n",
       "             param_grid={&#x27;regressor__max_depth&#x27;: [3, 4, 5, 6, 7, 8],\n",
       "                         &#x27;regressor__max_features&#x27;: [&#x27;auto&#x27;, &#x27;sqrt&#x27;, &#x27;log2&#x27;],\n",
       "                         &#x27;regressor__n_estimators&#x27;: [100, 500]})</pre></div></div></div><div class=\"sk-parallel\"><div class=\"sk-parallel-item\"><div class=\"sk-item\"><div class=\"sk-serial\"><div class=\"sk-item\"><div class=\"sk-serial\"><div class=\"sk-item sk-dashed-wrapped\"><div class=\"sk-label-container\"><div class=\"sk-label sk-toggleable\"><input class=\"sk-toggleable__control sk-hidden--visually\" id=\"05aa13c9-cc4e-4695-8089-9a4aab81f3cd\" type=\"checkbox\" ><label for=\"05aa13c9-cc4e-4695-8089-9a4aab81f3cd\" class=\"sk-toggleable__label sk-toggleable__label-arrow\">preprocessor: ColumnTransformer</label><div class=\"sk-toggleable__content\"><pre>ColumnTransformer(transformers=[(&#x27;categorical&#x27;,\n",
       "                                 Pipeline(steps=[(&#x27;imputation_constant&#x27;,\n",
       "                                                  SimpleImputer(fill_value=&#x27;missing&#x27;,\n",
       "                                                                strategy=&#x27;constant&#x27;)),\n",
       "                                                 (&#x27;onehot&#x27;,\n",
       "                                                  OneHotEncoder(handle_unknown=&#x27;ignore&#x27;))]),\n",
       "                                 [&#x27;sex&#x27;, &#x27;smoker&#x27;, &#x27;day&#x27;, &#x27;time&#x27;]),\n",
       "                                (&#x27;numerical&#x27;,\n",
       "                                 Pipeline(steps=[(&#x27;imputation_mean&#x27;,\n",
       "                                                  SimpleImputer()),\n",
       "                                                 (&#x27;scaler&#x27;, StandardScaler())]),\n",
       "                                 [&#x27;tip&#x27;, &#x27;size&#x27;])])</pre></div></div></div><div class=\"sk-parallel\"><div class=\"sk-parallel-item\"><div class=\"sk-item\"><div class=\"sk-label-container\"><div class=\"sk-label sk-toggleable\"><input class=\"sk-toggleable__control sk-hidden--visually\" id=\"b91c95dd-713d-4a00-a2c8-f23af8d86529\" type=\"checkbox\" ><label for=\"b91c95dd-713d-4a00-a2c8-f23af8d86529\" class=\"sk-toggleable__label sk-toggleable__label-arrow\">categorical</label><div class=\"sk-toggleable__content\"><pre>[&#x27;sex&#x27;, &#x27;smoker&#x27;, &#x27;day&#x27;, &#x27;time&#x27;]</pre></div></div></div><div class=\"sk-serial\"><div class=\"sk-item\"><div class=\"sk-serial\"><div class=\"sk-item\"><div class=\"sk-estimator sk-toggleable\"><input class=\"sk-toggleable__control sk-hidden--visually\" id=\"67aed5ab-6d2c-4482-b7c7-270358bb1e12\" type=\"checkbox\" ><label for=\"67aed5ab-6d2c-4482-b7c7-270358bb1e12\" class=\"sk-toggleable__label sk-toggleable__label-arrow\">SimpleImputer</label><div class=\"sk-toggleable__content\"><pre>SimpleImputer(fill_value=&#x27;missing&#x27;, strategy=&#x27;constant&#x27;)</pre></div></div></div><div class=\"sk-item\"><div class=\"sk-estimator sk-toggleable\"><input class=\"sk-toggleable__control sk-hidden--visually\" id=\"9c80d619-4d52-4871-a94d-ad64a07c1219\" type=\"checkbox\" ><label for=\"9c80d619-4d52-4871-a94d-ad64a07c1219\" class=\"sk-toggleable__label sk-toggleable__label-arrow\">OneHotEncoder</label><div class=\"sk-toggleable__content\"><pre>OneHotEncoder(handle_unknown=&#x27;ignore&#x27;)</pre></div></div></div></div></div></div></div></div><div class=\"sk-parallel-item\"><div class=\"sk-item\"><div class=\"sk-label-container\"><div class=\"sk-label sk-toggleable\"><input class=\"sk-toggleable__control sk-hidden--visually\" id=\"392fc22c-16bf-4659-8f13-e622a0b0368d\" type=\"checkbox\" ><label for=\"392fc22c-16bf-4659-8f13-e622a0b0368d\" class=\"sk-toggleable__label sk-toggleable__label-arrow\">numerical</label><div class=\"sk-toggleable__content\"><pre>[&#x27;tip&#x27;, &#x27;size&#x27;]</pre></div></div></div><div class=\"sk-serial\"><div class=\"sk-item\"><div class=\"sk-serial\"><div class=\"sk-item\"><div class=\"sk-estimator sk-toggleable\"><input class=\"sk-toggleable__control sk-hidden--visually\" id=\"a94e8191-eba4-4154-9440-a22fc1868be3\" type=\"checkbox\" ><label for=\"a94e8191-eba4-4154-9440-a22fc1868be3\" class=\"sk-toggleable__label sk-toggleable__label-arrow\">SimpleImputer</label><div class=\"sk-toggleable__content\"><pre>SimpleImputer()</pre></div></div></div><div class=\"sk-item\"><div class=\"sk-estimator sk-toggleable\"><input class=\"sk-toggleable__control sk-hidden--visually\" id=\"ca9080de-0f51-48d0-9ad4-3fc25317a713\" type=\"checkbox\" ><label for=\"ca9080de-0f51-48d0-9ad4-3fc25317a713\" class=\"sk-toggleable__label sk-toggleable__label-arrow\">StandardScaler</label><div class=\"sk-toggleable__content\"><pre>StandardScaler()</pre></div></div></div></div></div></div></div></div></div></div><div class=\"sk-item\"><div class=\"sk-estimator sk-toggleable\"><input class=\"sk-toggleable__control sk-hidden--visually\" id=\"0ac7b3a6-fb87-4dab-9602-1184c9a65bde\" type=\"checkbox\" ><label for=\"0ac7b3a6-fb87-4dab-9602-1184c9a65bde\" class=\"sk-toggleable__label sk-toggleable__label-arrow\">RandomForestRegressor</label><div class=\"sk-toggleable__content\"><pre>RandomForestRegressor()</pre></div></div></div></div></div></div></div></div></div></div></div></div>"
      ],
      "text/plain": [
       "GridSearchCV(estimator=Pipeline(steps=[('preprocessor',\n",
       "                                        ColumnTransformer(transformers=[('categorical',\n",
       "                                                                         Pipeline(steps=[('imputation_constant',\n",
       "                                                                                          SimpleImputer(fill_value='missing',\n",
       "                                                                                                        strategy='constant')),\n",
       "                                                                                         ('onehot',\n",
       "                                                                                          OneHotEncoder(handle_unknown='ignore'))]),\n",
       "                                                                         ['sex',\n",
       "                                                                          'smoker',\n",
       "                                                                          'day',\n",
       "                                                                          'time']),\n",
       "                                                                        ('numerical',\n",
       "                                                                         Pipeline(steps=[('imputation_mean',\n",
       "                                                                                          SimpleImputer()),\n",
       "                                                                                         ('scaler',\n",
       "                                                                                          StandardScaler())]),\n",
       "                                                                         ['tip',\n",
       "                                                                          'size'])])),\n",
       "                                       ('regressor', RandomForestRegressor())]),\n",
       "             n_jobs=1,\n",
       "             param_grid={'regressor__max_depth': [3, 4, 5, 6, 7, 8],\n",
       "                         'regressor__max_features': ['auto', 'sqrt', 'log2'],\n",
       "                         'regressor__n_estimators': [100, 500]})"
      ]
     },
     "execution_count": 32,
     "metadata": {},
     "output_type": "execute_result"
    }
   ],
   "source": [
    "gridsearch.fit(X_train,y_train)"
   ]
  },
  {
   "cell_type": "code",
   "execution_count": 33,
   "id": "83cc8d3e",
   "metadata": {},
   "outputs": [
    {
     "data": {
      "text/plain": [
       "{'regressor__max_depth': 6,\n",
       " 'regressor__max_features': 'log2',\n",
       " 'regressor__n_estimators': 500}"
      ]
     },
     "execution_count": 33,
     "metadata": {},
     "output_type": "execute_result"
    }
   ],
   "source": [
    "gridsearch.best_params_"
   ]
  },
  {
   "cell_type": "code",
   "execution_count": 36,
   "id": "59444763",
   "metadata": {},
   "outputs": [],
   "source": [
    "pipe=Pipeline(\n",
    "    [(\"preprocessor\",preprocessor),(\"regressor\",RandomForestRegressor(max_depth= 6,\n",
    " max_features= 'log2',\n",
    " n_estimators= 500))]\n",
    "\n",
    ")"
   ]
  },
  {
   "cell_type": "code",
   "execution_count": 37,
   "id": "b847e507",
   "metadata": {},
   "outputs": [
    {
     "data": {
      "text/html": [
       "<style>#sk-7d8b2c6a-0063-4387-8b92-2750084b9dfb {color: black;background-color: white;}#sk-7d8b2c6a-0063-4387-8b92-2750084b9dfb pre{padding: 0;}#sk-7d8b2c6a-0063-4387-8b92-2750084b9dfb div.sk-toggleable {background-color: white;}#sk-7d8b2c6a-0063-4387-8b92-2750084b9dfb label.sk-toggleable__label {cursor: pointer;display: block;width: 100%;margin-bottom: 0;padding: 0.3em;box-sizing: border-box;text-align: center;}#sk-7d8b2c6a-0063-4387-8b92-2750084b9dfb label.sk-toggleable__label-arrow:before {content: \"▸\";float: left;margin-right: 0.25em;color: #696969;}#sk-7d8b2c6a-0063-4387-8b92-2750084b9dfb label.sk-toggleable__label-arrow:hover:before {color: black;}#sk-7d8b2c6a-0063-4387-8b92-2750084b9dfb div.sk-estimator:hover label.sk-toggleable__label-arrow:before {color: black;}#sk-7d8b2c6a-0063-4387-8b92-2750084b9dfb div.sk-toggleable__content {max-height: 0;max-width: 0;overflow: hidden;text-align: left;background-color: #f0f8ff;}#sk-7d8b2c6a-0063-4387-8b92-2750084b9dfb div.sk-toggleable__content pre {margin: 0.2em;color: black;border-radius: 0.25em;background-color: #f0f8ff;}#sk-7d8b2c6a-0063-4387-8b92-2750084b9dfb input.sk-toggleable__control:checked~div.sk-toggleable__content {max-height: 200px;max-width: 100%;overflow: auto;}#sk-7d8b2c6a-0063-4387-8b92-2750084b9dfb input.sk-toggleable__control:checked~label.sk-toggleable__label-arrow:before {content: \"▾\";}#sk-7d8b2c6a-0063-4387-8b92-2750084b9dfb div.sk-estimator input.sk-toggleable__control:checked~label.sk-toggleable__label {background-color: #d4ebff;}#sk-7d8b2c6a-0063-4387-8b92-2750084b9dfb div.sk-label input.sk-toggleable__control:checked~label.sk-toggleable__label {background-color: #d4ebff;}#sk-7d8b2c6a-0063-4387-8b92-2750084b9dfb input.sk-hidden--visually {border: 0;clip: rect(1px 1px 1px 1px);clip: rect(1px, 1px, 1px, 1px);height: 1px;margin: -1px;overflow: hidden;padding: 0;position: absolute;width: 1px;}#sk-7d8b2c6a-0063-4387-8b92-2750084b9dfb div.sk-estimator {font-family: monospace;background-color: #f0f8ff;border: 1px dotted black;border-radius: 0.25em;box-sizing: border-box;margin-bottom: 0.5em;}#sk-7d8b2c6a-0063-4387-8b92-2750084b9dfb div.sk-estimator:hover {background-color: #d4ebff;}#sk-7d8b2c6a-0063-4387-8b92-2750084b9dfb div.sk-parallel-item::after {content: \"\";width: 100%;border-bottom: 1px solid gray;flex-grow: 1;}#sk-7d8b2c6a-0063-4387-8b92-2750084b9dfb div.sk-label:hover label.sk-toggleable__label {background-color: #d4ebff;}#sk-7d8b2c6a-0063-4387-8b92-2750084b9dfb div.sk-serial::before {content: \"\";position: absolute;border-left: 1px solid gray;box-sizing: border-box;top: 2em;bottom: 0;left: 50%;}#sk-7d8b2c6a-0063-4387-8b92-2750084b9dfb div.sk-serial {display: flex;flex-direction: column;align-items: center;background-color: white;padding-right: 0.2em;padding-left: 0.2em;}#sk-7d8b2c6a-0063-4387-8b92-2750084b9dfb div.sk-item {z-index: 1;}#sk-7d8b2c6a-0063-4387-8b92-2750084b9dfb div.sk-parallel {display: flex;align-items: stretch;justify-content: center;background-color: white;}#sk-7d8b2c6a-0063-4387-8b92-2750084b9dfb div.sk-parallel::before {content: \"\";position: absolute;border-left: 1px solid gray;box-sizing: border-box;top: 2em;bottom: 0;left: 50%;}#sk-7d8b2c6a-0063-4387-8b92-2750084b9dfb div.sk-parallel-item {display: flex;flex-direction: column;position: relative;background-color: white;}#sk-7d8b2c6a-0063-4387-8b92-2750084b9dfb div.sk-parallel-item:first-child::after {align-self: flex-end;width: 50%;}#sk-7d8b2c6a-0063-4387-8b92-2750084b9dfb div.sk-parallel-item:last-child::after {align-self: flex-start;width: 50%;}#sk-7d8b2c6a-0063-4387-8b92-2750084b9dfb div.sk-parallel-item:only-child::after {width: 0;}#sk-7d8b2c6a-0063-4387-8b92-2750084b9dfb div.sk-dashed-wrapped {border: 1px dashed gray;margin: 0 0.4em 0.5em 0.4em;box-sizing: border-box;padding-bottom: 0.4em;background-color: white;position: relative;}#sk-7d8b2c6a-0063-4387-8b92-2750084b9dfb div.sk-label label {font-family: monospace;font-weight: bold;background-color: white;display: inline-block;line-height: 1.2em;}#sk-7d8b2c6a-0063-4387-8b92-2750084b9dfb div.sk-label-container {position: relative;z-index: 2;text-align: center;}#sk-7d8b2c6a-0063-4387-8b92-2750084b9dfb div.sk-container {/* jupyter's `normalize.less` sets `[hidden] { display: none; }` but bootstrap.min.css set `[hidden] { display: none !important; }` so we also need the `!important` here to be able to override the default hidden behavior on the sphinx rendered scikit-learn.org. See: https://github.com/scikit-learn/scikit-learn/issues/21755 */display: inline-block !important;position: relative;}#sk-7d8b2c6a-0063-4387-8b92-2750084b9dfb div.sk-text-repr-fallback {display: none;}</style><div id=\"sk-7d8b2c6a-0063-4387-8b92-2750084b9dfb\" class=\"sk-top-container\"><div class=\"sk-text-repr-fallback\"><pre>Pipeline(steps=[(&#x27;preprocessor&#x27;,\n",
       "                 ColumnTransformer(transformers=[(&#x27;categorical&#x27;,\n",
       "                                                  Pipeline(steps=[(&#x27;imputation_constant&#x27;,\n",
       "                                                                   SimpleImputer(fill_value=&#x27;missing&#x27;,\n",
       "                                                                                 strategy=&#x27;constant&#x27;)),\n",
       "                                                                  (&#x27;onehot&#x27;,\n",
       "                                                                   OneHotEncoder(handle_unknown=&#x27;ignore&#x27;))]),\n",
       "                                                  [&#x27;sex&#x27;, &#x27;smoker&#x27;, &#x27;day&#x27;,\n",
       "                                                   &#x27;time&#x27;]),\n",
       "                                                 (&#x27;numerical&#x27;,\n",
       "                                                  Pipeline(steps=[(&#x27;imputation_mean&#x27;,\n",
       "                                                                   SimpleImputer()),\n",
       "                                                                  (&#x27;scaler&#x27;,\n",
       "                                                                   StandardScaler())]),\n",
       "                                                  [&#x27;tip&#x27;, &#x27;size&#x27;])])),\n",
       "                (&#x27;regressor&#x27;,\n",
       "                 RandomForestRegressor(max_depth=6, max_features=&#x27;log2&#x27;,\n",
       "                                       n_estimators=500))])</pre><b>Please rerun this cell to show the HTML repr or trust the notebook.</b></div><div class=\"sk-container\" hidden><div class=\"sk-item sk-dashed-wrapped\"><div class=\"sk-label-container\"><div class=\"sk-label sk-toggleable\"><input class=\"sk-toggleable__control sk-hidden--visually\" id=\"85a23dbc-192f-4c44-83c0-07f00511f62f\" type=\"checkbox\" ><label for=\"85a23dbc-192f-4c44-83c0-07f00511f62f\" class=\"sk-toggleable__label sk-toggleable__label-arrow\">Pipeline</label><div class=\"sk-toggleable__content\"><pre>Pipeline(steps=[(&#x27;preprocessor&#x27;,\n",
       "                 ColumnTransformer(transformers=[(&#x27;categorical&#x27;,\n",
       "                                                  Pipeline(steps=[(&#x27;imputation_constant&#x27;,\n",
       "                                                                   SimpleImputer(fill_value=&#x27;missing&#x27;,\n",
       "                                                                                 strategy=&#x27;constant&#x27;)),\n",
       "                                                                  (&#x27;onehot&#x27;,\n",
       "                                                                   OneHotEncoder(handle_unknown=&#x27;ignore&#x27;))]),\n",
       "                                                  [&#x27;sex&#x27;, &#x27;smoker&#x27;, &#x27;day&#x27;,\n",
       "                                                   &#x27;time&#x27;]),\n",
       "                                                 (&#x27;numerical&#x27;,\n",
       "                                                  Pipeline(steps=[(&#x27;imputation_mean&#x27;,\n",
       "                                                                   SimpleImputer()),\n",
       "                                                                  (&#x27;scaler&#x27;,\n",
       "                                                                   StandardScaler())]),\n",
       "                                                  [&#x27;tip&#x27;, &#x27;size&#x27;])])),\n",
       "                (&#x27;regressor&#x27;,\n",
       "                 RandomForestRegressor(max_depth=6, max_features=&#x27;log2&#x27;,\n",
       "                                       n_estimators=500))])</pre></div></div></div><div class=\"sk-serial\"><div class=\"sk-item sk-dashed-wrapped\"><div class=\"sk-label-container\"><div class=\"sk-label sk-toggleable\"><input class=\"sk-toggleable__control sk-hidden--visually\" id=\"1e405034-642b-41cc-b273-895d5bb9f678\" type=\"checkbox\" ><label for=\"1e405034-642b-41cc-b273-895d5bb9f678\" class=\"sk-toggleable__label sk-toggleable__label-arrow\">preprocessor: ColumnTransformer</label><div class=\"sk-toggleable__content\"><pre>ColumnTransformer(transformers=[(&#x27;categorical&#x27;,\n",
       "                                 Pipeline(steps=[(&#x27;imputation_constant&#x27;,\n",
       "                                                  SimpleImputer(fill_value=&#x27;missing&#x27;,\n",
       "                                                                strategy=&#x27;constant&#x27;)),\n",
       "                                                 (&#x27;onehot&#x27;,\n",
       "                                                  OneHotEncoder(handle_unknown=&#x27;ignore&#x27;))]),\n",
       "                                 [&#x27;sex&#x27;, &#x27;smoker&#x27;, &#x27;day&#x27;, &#x27;time&#x27;]),\n",
       "                                (&#x27;numerical&#x27;,\n",
       "                                 Pipeline(steps=[(&#x27;imputation_mean&#x27;,\n",
       "                                                  SimpleImputer()),\n",
       "                                                 (&#x27;scaler&#x27;, StandardScaler())]),\n",
       "                                 [&#x27;tip&#x27;, &#x27;size&#x27;])])</pre></div></div></div><div class=\"sk-parallel\"><div class=\"sk-parallel-item\"><div class=\"sk-item\"><div class=\"sk-label-container\"><div class=\"sk-label sk-toggleable\"><input class=\"sk-toggleable__control sk-hidden--visually\" id=\"8bc03ccb-df85-4f5d-be48-5e2e69060a75\" type=\"checkbox\" ><label for=\"8bc03ccb-df85-4f5d-be48-5e2e69060a75\" class=\"sk-toggleable__label sk-toggleable__label-arrow\">categorical</label><div class=\"sk-toggleable__content\"><pre>[&#x27;sex&#x27;, &#x27;smoker&#x27;, &#x27;day&#x27;, &#x27;time&#x27;]</pre></div></div></div><div class=\"sk-serial\"><div class=\"sk-item\"><div class=\"sk-serial\"><div class=\"sk-item\"><div class=\"sk-estimator sk-toggleable\"><input class=\"sk-toggleable__control sk-hidden--visually\" id=\"5cc71f4d-4261-43ca-8f65-e6ae9ed1e384\" type=\"checkbox\" ><label for=\"5cc71f4d-4261-43ca-8f65-e6ae9ed1e384\" class=\"sk-toggleable__label sk-toggleable__label-arrow\">SimpleImputer</label><div class=\"sk-toggleable__content\"><pre>SimpleImputer(fill_value=&#x27;missing&#x27;, strategy=&#x27;constant&#x27;)</pre></div></div></div><div class=\"sk-item\"><div class=\"sk-estimator sk-toggleable\"><input class=\"sk-toggleable__control sk-hidden--visually\" id=\"6f8dea38-3d6d-47e3-a774-d1c8237af85e\" type=\"checkbox\" ><label for=\"6f8dea38-3d6d-47e3-a774-d1c8237af85e\" class=\"sk-toggleable__label sk-toggleable__label-arrow\">OneHotEncoder</label><div class=\"sk-toggleable__content\"><pre>OneHotEncoder(handle_unknown=&#x27;ignore&#x27;)</pre></div></div></div></div></div></div></div></div><div class=\"sk-parallel-item\"><div class=\"sk-item\"><div class=\"sk-label-container\"><div class=\"sk-label sk-toggleable\"><input class=\"sk-toggleable__control sk-hidden--visually\" id=\"24a5ed91-435e-4df7-bb30-7e641fe5954b\" type=\"checkbox\" ><label for=\"24a5ed91-435e-4df7-bb30-7e641fe5954b\" class=\"sk-toggleable__label sk-toggleable__label-arrow\">numerical</label><div class=\"sk-toggleable__content\"><pre>[&#x27;tip&#x27;, &#x27;size&#x27;]</pre></div></div></div><div class=\"sk-serial\"><div class=\"sk-item\"><div class=\"sk-serial\"><div class=\"sk-item\"><div class=\"sk-estimator sk-toggleable\"><input class=\"sk-toggleable__control sk-hidden--visually\" id=\"8b9187d2-0a29-4039-8e4e-ca24e4670492\" type=\"checkbox\" ><label for=\"8b9187d2-0a29-4039-8e4e-ca24e4670492\" class=\"sk-toggleable__label sk-toggleable__label-arrow\">SimpleImputer</label><div class=\"sk-toggleable__content\"><pre>SimpleImputer()</pre></div></div></div><div class=\"sk-item\"><div class=\"sk-estimator sk-toggleable\"><input class=\"sk-toggleable__control sk-hidden--visually\" id=\"b4320009-645c-460e-b29e-b0794c8ad999\" type=\"checkbox\" ><label for=\"b4320009-645c-460e-b29e-b0794c8ad999\" class=\"sk-toggleable__label sk-toggleable__label-arrow\">StandardScaler</label><div class=\"sk-toggleable__content\"><pre>StandardScaler()</pre></div></div></div></div></div></div></div></div></div></div><div class=\"sk-item\"><div class=\"sk-estimator sk-toggleable\"><input class=\"sk-toggleable__control sk-hidden--visually\" id=\"99ec5aaf-620a-426b-aabf-c728fe746e8a\" type=\"checkbox\" ><label for=\"99ec5aaf-620a-426b-aabf-c728fe746e8a\" class=\"sk-toggleable__label sk-toggleable__label-arrow\">RandomForestRegressor</label><div class=\"sk-toggleable__content\"><pre>RandomForestRegressor(max_depth=6, max_features=&#x27;log2&#x27;, n_estimators=500)</pre></div></div></div></div></div></div></div>"
      ],
      "text/plain": [
       "Pipeline(steps=[('preprocessor',\n",
       "                 ColumnTransformer(transformers=[('categorical',\n",
       "                                                  Pipeline(steps=[('imputation_constant',\n",
       "                                                                   SimpleImputer(fill_value='missing',\n",
       "                                                                                 strategy='constant')),\n",
       "                                                                  ('onehot',\n",
       "                                                                   OneHotEncoder(handle_unknown='ignore'))]),\n",
       "                                                  ['sex', 'smoker', 'day',\n",
       "                                                   'time']),\n",
       "                                                 ('numerical',\n",
       "                                                  Pipeline(steps=[('imputation_mean',\n",
       "                                                                   SimpleImputer()),\n",
       "                                                                  ('scaler',\n",
       "                                                                   StandardScaler())]),\n",
       "                                                  ['tip', 'size'])])),\n",
       "                ('regressor',\n",
       "                 RandomForestRegressor(max_depth=6, max_features='log2',\n",
       "                                       n_estimators=500))])"
      ]
     },
     "execution_count": 37,
     "metadata": {},
     "output_type": "execute_result"
    }
   ],
   "source": [
    "pipe"
   ]
  },
  {
   "cell_type": "code",
   "execution_count": 38,
   "id": "0c1f00b3",
   "metadata": {},
   "outputs": [
    {
     "data": {
      "text/html": [
       "<style>#sk-d0707d9d-8dfb-4382-af2c-d5cbe5fe0516 {color: black;background-color: white;}#sk-d0707d9d-8dfb-4382-af2c-d5cbe5fe0516 pre{padding: 0;}#sk-d0707d9d-8dfb-4382-af2c-d5cbe5fe0516 div.sk-toggleable {background-color: white;}#sk-d0707d9d-8dfb-4382-af2c-d5cbe5fe0516 label.sk-toggleable__label {cursor: pointer;display: block;width: 100%;margin-bottom: 0;padding: 0.3em;box-sizing: border-box;text-align: center;}#sk-d0707d9d-8dfb-4382-af2c-d5cbe5fe0516 label.sk-toggleable__label-arrow:before {content: \"▸\";float: left;margin-right: 0.25em;color: #696969;}#sk-d0707d9d-8dfb-4382-af2c-d5cbe5fe0516 label.sk-toggleable__label-arrow:hover:before {color: black;}#sk-d0707d9d-8dfb-4382-af2c-d5cbe5fe0516 div.sk-estimator:hover label.sk-toggleable__label-arrow:before {color: black;}#sk-d0707d9d-8dfb-4382-af2c-d5cbe5fe0516 div.sk-toggleable__content {max-height: 0;max-width: 0;overflow: hidden;text-align: left;background-color: #f0f8ff;}#sk-d0707d9d-8dfb-4382-af2c-d5cbe5fe0516 div.sk-toggleable__content pre {margin: 0.2em;color: black;border-radius: 0.25em;background-color: #f0f8ff;}#sk-d0707d9d-8dfb-4382-af2c-d5cbe5fe0516 input.sk-toggleable__control:checked~div.sk-toggleable__content {max-height: 200px;max-width: 100%;overflow: auto;}#sk-d0707d9d-8dfb-4382-af2c-d5cbe5fe0516 input.sk-toggleable__control:checked~label.sk-toggleable__label-arrow:before {content: \"▾\";}#sk-d0707d9d-8dfb-4382-af2c-d5cbe5fe0516 div.sk-estimator input.sk-toggleable__control:checked~label.sk-toggleable__label {background-color: #d4ebff;}#sk-d0707d9d-8dfb-4382-af2c-d5cbe5fe0516 div.sk-label input.sk-toggleable__control:checked~label.sk-toggleable__label {background-color: #d4ebff;}#sk-d0707d9d-8dfb-4382-af2c-d5cbe5fe0516 input.sk-hidden--visually {border: 0;clip: rect(1px 1px 1px 1px);clip: rect(1px, 1px, 1px, 1px);height: 1px;margin: -1px;overflow: hidden;padding: 0;position: absolute;width: 1px;}#sk-d0707d9d-8dfb-4382-af2c-d5cbe5fe0516 div.sk-estimator {font-family: monospace;background-color: #f0f8ff;border: 1px dotted black;border-radius: 0.25em;box-sizing: border-box;margin-bottom: 0.5em;}#sk-d0707d9d-8dfb-4382-af2c-d5cbe5fe0516 div.sk-estimator:hover {background-color: #d4ebff;}#sk-d0707d9d-8dfb-4382-af2c-d5cbe5fe0516 div.sk-parallel-item::after {content: \"\";width: 100%;border-bottom: 1px solid gray;flex-grow: 1;}#sk-d0707d9d-8dfb-4382-af2c-d5cbe5fe0516 div.sk-label:hover label.sk-toggleable__label {background-color: #d4ebff;}#sk-d0707d9d-8dfb-4382-af2c-d5cbe5fe0516 div.sk-serial::before {content: \"\";position: absolute;border-left: 1px solid gray;box-sizing: border-box;top: 2em;bottom: 0;left: 50%;}#sk-d0707d9d-8dfb-4382-af2c-d5cbe5fe0516 div.sk-serial {display: flex;flex-direction: column;align-items: center;background-color: white;padding-right: 0.2em;padding-left: 0.2em;}#sk-d0707d9d-8dfb-4382-af2c-d5cbe5fe0516 div.sk-item {z-index: 1;}#sk-d0707d9d-8dfb-4382-af2c-d5cbe5fe0516 div.sk-parallel {display: flex;align-items: stretch;justify-content: center;background-color: white;}#sk-d0707d9d-8dfb-4382-af2c-d5cbe5fe0516 div.sk-parallel::before {content: \"\";position: absolute;border-left: 1px solid gray;box-sizing: border-box;top: 2em;bottom: 0;left: 50%;}#sk-d0707d9d-8dfb-4382-af2c-d5cbe5fe0516 div.sk-parallel-item {display: flex;flex-direction: column;position: relative;background-color: white;}#sk-d0707d9d-8dfb-4382-af2c-d5cbe5fe0516 div.sk-parallel-item:first-child::after {align-self: flex-end;width: 50%;}#sk-d0707d9d-8dfb-4382-af2c-d5cbe5fe0516 div.sk-parallel-item:last-child::after {align-self: flex-start;width: 50%;}#sk-d0707d9d-8dfb-4382-af2c-d5cbe5fe0516 div.sk-parallel-item:only-child::after {width: 0;}#sk-d0707d9d-8dfb-4382-af2c-d5cbe5fe0516 div.sk-dashed-wrapped {border: 1px dashed gray;margin: 0 0.4em 0.5em 0.4em;box-sizing: border-box;padding-bottom: 0.4em;background-color: white;position: relative;}#sk-d0707d9d-8dfb-4382-af2c-d5cbe5fe0516 div.sk-label label {font-family: monospace;font-weight: bold;background-color: white;display: inline-block;line-height: 1.2em;}#sk-d0707d9d-8dfb-4382-af2c-d5cbe5fe0516 div.sk-label-container {position: relative;z-index: 2;text-align: center;}#sk-d0707d9d-8dfb-4382-af2c-d5cbe5fe0516 div.sk-container {/* jupyter's `normalize.less` sets `[hidden] { display: none; }` but bootstrap.min.css set `[hidden] { display: none !important; }` so we also need the `!important` here to be able to override the default hidden behavior on the sphinx rendered scikit-learn.org. See: https://github.com/scikit-learn/scikit-learn/issues/21755 */display: inline-block !important;position: relative;}#sk-d0707d9d-8dfb-4382-af2c-d5cbe5fe0516 div.sk-text-repr-fallback {display: none;}</style><div id=\"sk-d0707d9d-8dfb-4382-af2c-d5cbe5fe0516\" class=\"sk-top-container\"><div class=\"sk-text-repr-fallback\"><pre>Pipeline(steps=[(&#x27;preprocessor&#x27;,\n",
       "                 ColumnTransformer(transformers=[(&#x27;categorical&#x27;,\n",
       "                                                  Pipeline(steps=[(&#x27;imputation_constant&#x27;,\n",
       "                                                                   SimpleImputer(fill_value=&#x27;missing&#x27;,\n",
       "                                                                                 strategy=&#x27;constant&#x27;)),\n",
       "                                                                  (&#x27;onehot&#x27;,\n",
       "                                                                   OneHotEncoder(handle_unknown=&#x27;ignore&#x27;))]),\n",
       "                                                  [&#x27;sex&#x27;, &#x27;smoker&#x27;, &#x27;day&#x27;,\n",
       "                                                   &#x27;time&#x27;]),\n",
       "                                                 (&#x27;numerical&#x27;,\n",
       "                                                  Pipeline(steps=[(&#x27;imputation_mean&#x27;,\n",
       "                                                                   SimpleImputer()),\n",
       "                                                                  (&#x27;scaler&#x27;,\n",
       "                                                                   StandardScaler())]),\n",
       "                                                  [&#x27;tip&#x27;, &#x27;size&#x27;])])),\n",
       "                (&#x27;regressor&#x27;,\n",
       "                 RandomForestRegressor(max_depth=6, max_features=&#x27;log2&#x27;,\n",
       "                                       n_estimators=500))])</pre><b>Please rerun this cell to show the HTML repr or trust the notebook.</b></div><div class=\"sk-container\" hidden><div class=\"sk-item sk-dashed-wrapped\"><div class=\"sk-label-container\"><div class=\"sk-label sk-toggleable\"><input class=\"sk-toggleable__control sk-hidden--visually\" id=\"b4b84bd0-f8cd-431a-b91a-e30161ab575b\" type=\"checkbox\" ><label for=\"b4b84bd0-f8cd-431a-b91a-e30161ab575b\" class=\"sk-toggleable__label sk-toggleable__label-arrow\">Pipeline</label><div class=\"sk-toggleable__content\"><pre>Pipeline(steps=[(&#x27;preprocessor&#x27;,\n",
       "                 ColumnTransformer(transformers=[(&#x27;categorical&#x27;,\n",
       "                                                  Pipeline(steps=[(&#x27;imputation_constant&#x27;,\n",
       "                                                                   SimpleImputer(fill_value=&#x27;missing&#x27;,\n",
       "                                                                                 strategy=&#x27;constant&#x27;)),\n",
       "                                                                  (&#x27;onehot&#x27;,\n",
       "                                                                   OneHotEncoder(handle_unknown=&#x27;ignore&#x27;))]),\n",
       "                                                  [&#x27;sex&#x27;, &#x27;smoker&#x27;, &#x27;day&#x27;,\n",
       "                                                   &#x27;time&#x27;]),\n",
       "                                                 (&#x27;numerical&#x27;,\n",
       "                                                  Pipeline(steps=[(&#x27;imputation_mean&#x27;,\n",
       "                                                                   SimpleImputer()),\n",
       "                                                                  (&#x27;scaler&#x27;,\n",
       "                                                                   StandardScaler())]),\n",
       "                                                  [&#x27;tip&#x27;, &#x27;size&#x27;])])),\n",
       "                (&#x27;regressor&#x27;,\n",
       "                 RandomForestRegressor(max_depth=6, max_features=&#x27;log2&#x27;,\n",
       "                                       n_estimators=500))])</pre></div></div></div><div class=\"sk-serial\"><div class=\"sk-item sk-dashed-wrapped\"><div class=\"sk-label-container\"><div class=\"sk-label sk-toggleable\"><input class=\"sk-toggleable__control sk-hidden--visually\" id=\"373ed0be-39c7-4cf0-8bcb-14b3e9eccd3d\" type=\"checkbox\" ><label for=\"373ed0be-39c7-4cf0-8bcb-14b3e9eccd3d\" class=\"sk-toggleable__label sk-toggleable__label-arrow\">preprocessor: ColumnTransformer</label><div class=\"sk-toggleable__content\"><pre>ColumnTransformer(transformers=[(&#x27;categorical&#x27;,\n",
       "                                 Pipeline(steps=[(&#x27;imputation_constant&#x27;,\n",
       "                                                  SimpleImputer(fill_value=&#x27;missing&#x27;,\n",
       "                                                                strategy=&#x27;constant&#x27;)),\n",
       "                                                 (&#x27;onehot&#x27;,\n",
       "                                                  OneHotEncoder(handle_unknown=&#x27;ignore&#x27;))]),\n",
       "                                 [&#x27;sex&#x27;, &#x27;smoker&#x27;, &#x27;day&#x27;, &#x27;time&#x27;]),\n",
       "                                (&#x27;numerical&#x27;,\n",
       "                                 Pipeline(steps=[(&#x27;imputation_mean&#x27;,\n",
       "                                                  SimpleImputer()),\n",
       "                                                 (&#x27;scaler&#x27;, StandardScaler())]),\n",
       "                                 [&#x27;tip&#x27;, &#x27;size&#x27;])])</pre></div></div></div><div class=\"sk-parallel\"><div class=\"sk-parallel-item\"><div class=\"sk-item\"><div class=\"sk-label-container\"><div class=\"sk-label sk-toggleable\"><input class=\"sk-toggleable__control sk-hidden--visually\" id=\"33a23a50-f699-4657-ae3b-7c9d60f08049\" type=\"checkbox\" ><label for=\"33a23a50-f699-4657-ae3b-7c9d60f08049\" class=\"sk-toggleable__label sk-toggleable__label-arrow\">categorical</label><div class=\"sk-toggleable__content\"><pre>[&#x27;sex&#x27;, &#x27;smoker&#x27;, &#x27;day&#x27;, &#x27;time&#x27;]</pre></div></div></div><div class=\"sk-serial\"><div class=\"sk-item\"><div class=\"sk-serial\"><div class=\"sk-item\"><div class=\"sk-estimator sk-toggleable\"><input class=\"sk-toggleable__control sk-hidden--visually\" id=\"15837f8f-d8af-467c-8144-684013bf4719\" type=\"checkbox\" ><label for=\"15837f8f-d8af-467c-8144-684013bf4719\" class=\"sk-toggleable__label sk-toggleable__label-arrow\">SimpleImputer</label><div class=\"sk-toggleable__content\"><pre>SimpleImputer(fill_value=&#x27;missing&#x27;, strategy=&#x27;constant&#x27;)</pre></div></div></div><div class=\"sk-item\"><div class=\"sk-estimator sk-toggleable\"><input class=\"sk-toggleable__control sk-hidden--visually\" id=\"b3a487ec-006a-482e-bbf5-c3e6d04ac32c\" type=\"checkbox\" ><label for=\"b3a487ec-006a-482e-bbf5-c3e6d04ac32c\" class=\"sk-toggleable__label sk-toggleable__label-arrow\">OneHotEncoder</label><div class=\"sk-toggleable__content\"><pre>OneHotEncoder(handle_unknown=&#x27;ignore&#x27;)</pre></div></div></div></div></div></div></div></div><div class=\"sk-parallel-item\"><div class=\"sk-item\"><div class=\"sk-label-container\"><div class=\"sk-label sk-toggleable\"><input class=\"sk-toggleable__control sk-hidden--visually\" id=\"19563b1b-01e2-4bf2-b096-3bdb5e96e0ff\" type=\"checkbox\" ><label for=\"19563b1b-01e2-4bf2-b096-3bdb5e96e0ff\" class=\"sk-toggleable__label sk-toggleable__label-arrow\">numerical</label><div class=\"sk-toggleable__content\"><pre>[&#x27;tip&#x27;, &#x27;size&#x27;]</pre></div></div></div><div class=\"sk-serial\"><div class=\"sk-item\"><div class=\"sk-serial\"><div class=\"sk-item\"><div class=\"sk-estimator sk-toggleable\"><input class=\"sk-toggleable__control sk-hidden--visually\" id=\"78fb7525-466b-46a3-bef9-9c9be3eee80d\" type=\"checkbox\" ><label for=\"78fb7525-466b-46a3-bef9-9c9be3eee80d\" class=\"sk-toggleable__label sk-toggleable__label-arrow\">SimpleImputer</label><div class=\"sk-toggleable__content\"><pre>SimpleImputer()</pre></div></div></div><div class=\"sk-item\"><div class=\"sk-estimator sk-toggleable\"><input class=\"sk-toggleable__control sk-hidden--visually\" id=\"06d2499b-518b-4413-9bcb-cd0c66b8a214\" type=\"checkbox\" ><label for=\"06d2499b-518b-4413-9bcb-cd0c66b8a214\" class=\"sk-toggleable__label sk-toggleable__label-arrow\">StandardScaler</label><div class=\"sk-toggleable__content\"><pre>StandardScaler()</pre></div></div></div></div></div></div></div></div></div></div><div class=\"sk-item\"><div class=\"sk-estimator sk-toggleable\"><input class=\"sk-toggleable__control sk-hidden--visually\" id=\"d129b69a-2f51-4fa1-8c0e-2f1d356482b3\" type=\"checkbox\" ><label for=\"d129b69a-2f51-4fa1-8c0e-2f1d356482b3\" class=\"sk-toggleable__label sk-toggleable__label-arrow\">RandomForestRegressor</label><div class=\"sk-toggleable__content\"><pre>RandomForestRegressor(max_depth=6, max_features=&#x27;log2&#x27;, n_estimators=500)</pre></div></div></div></div></div></div></div>"
      ],
      "text/plain": [
       "Pipeline(steps=[('preprocessor',\n",
       "                 ColumnTransformer(transformers=[('categorical',\n",
       "                                                  Pipeline(steps=[('imputation_constant',\n",
       "                                                                   SimpleImputer(fill_value='missing',\n",
       "                                                                                 strategy='constant')),\n",
       "                                                                  ('onehot',\n",
       "                                                                   OneHotEncoder(handle_unknown='ignore'))]),\n",
       "                                                  ['sex', 'smoker', 'day',\n",
       "                                                   'time']),\n",
       "                                                 ('numerical',\n",
       "                                                  Pipeline(steps=[('imputation_mean',\n",
       "                                                                   SimpleImputer()),\n",
       "                                                                  ('scaler',\n",
       "                                                                   StandardScaler())]),\n",
       "                                                  ['tip', 'size'])])),\n",
       "                ('regressor',\n",
       "                 RandomForestRegressor(max_depth=6, max_features='log2',\n",
       "                                       n_estimators=500))])"
      ]
     },
     "execution_count": 38,
     "metadata": {},
     "output_type": "execute_result"
    }
   ],
   "source": [
    "pipe.fit(X_train,y_train)"
   ]
  },
  {
   "cell_type": "code",
   "execution_count": 39,
   "id": "0112db8d",
   "metadata": {},
   "outputs": [
    {
     "data": {
      "text/plain": [
       "array([22.07710487, 20.71011156, 18.07706855, 19.02147249, 24.44723596,\n",
       "       21.07170395, 17.01285916, 21.91163583, 24.07594461, 17.66956308,\n",
       "       17.67552894, 30.88138293, 12.28020437, 28.87966575, 15.70130053,\n",
       "       24.94578639, 12.95086972, 29.64112668, 20.44743973, 16.63508518,\n",
       "       24.25194588, 19.24026546, 15.41103323, 28.9608936 , 20.36615913,\n",
       "       14.4348877 , 18.71136816, 13.67098321, 15.21135048, 24.71538517,\n",
       "       17.01285916, 17.03218826, 20.00268722, 24.81499199, 12.28020437,\n",
       "       19.6647839 , 17.14137094, 18.461655  , 15.68346879, 28.9147418 ,\n",
       "       18.94465828, 12.28020437, 24.25194588, 16.29452935, 25.00503892,\n",
       "       24.49924398, 31.19081217, 16.17587421, 13.67098321])"
      ]
     },
     "execution_count": 39,
     "metadata": {},
     "output_type": "execute_result"
    }
   ],
   "source": [
    "pipe.predict(X_test)"
   ]
  },
  {
   "cell_type": "code",
   "execution_count": null,
   "id": "11fdf97d",
   "metadata": {},
   "outputs": [],
   "source": []
  }
 ],
 "metadata": {
  "kernelspec": {
   "display_name": "Python 3 (ipykernel)",
   "language": "python",
   "name": "python3"
  },
  "language_info": {
   "codemirror_mode": {
    "name": "ipython",
    "version": 3
   },
   "file_extension": ".py",
   "mimetype": "text/x-python",
   "name": "python",
   "nbconvert_exporter": "python",
   "pygments_lexer": "ipython3",
   "version": "3.9.12"
  }
 },
 "nbformat": 4,
 "nbformat_minor": 5
}
